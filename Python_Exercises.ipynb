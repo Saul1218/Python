{
  "nbformat": 4,
  "nbformat_minor": 0,
  "metadata": {
    "colab": {
      "provenance": []
    },
    "kernelspec": {
      "name": "python3",
      "display_name": "Python 3"
    },
    "language_info": {
      "name": "python"
    }
  },
  "cells": [
    {
      "cell_type": "markdown",
      "source": [
        "# INTRODUCCION"
      ],
      "metadata": {
        "id": "f-nqtAsY_sJI"
      }
    },
    {
      "cell_type": "code",
      "execution_count": null,
      "metadata": {
        "colab": {
          "base_uri": "https://localhost:8080/"
        },
        "id": "g0WsFMgqwim0",
        "outputId": "d3993e9d-a300-4529-c03b-467b4f85864a"
      },
      "outputs": [
        {
          "output_type": "stream",
          "name": "stdout",
          "text": [
            "¡Hola Mundo!\n"
          ]
        }
      ],
      "source": [
        "#Ejercicio 1\n",
        "#Escribir un programa que muestre por la pantalla la cadena ¡Hola Mundo!\n",
        "\n",
        "print(\"¡Hola Mundo!\")"
      ]
    },
    {
      "cell_type": "code",
      "source": [
        "#Ejercicio 2\n",
        "#Escribir un programa que almacene la cadena ¡Hola Mundo! en una variable y luego muestre por pantalla el contenido de la variable.\n",
        "saludo = (\"Hola Mundo\")\n",
        "print(saludo)"
      ],
      "metadata": {
        "colab": {
          "base_uri": "https://localhost:8080/"
        },
        "id": "gUcWYcV4wxpa",
        "outputId": "bdae024b-fdeb-4f6c-fbfe-92ef0304b3cf"
      },
      "execution_count": null,
      "outputs": [
        {
          "output_type": "stream",
          "name": "stdout",
          "text": [
            " Hola Mundo\n"
          ]
        }
      ]
    },
    {
      "cell_type": "code",
      "source": [
        "#Ejercicio 3\n",
        "# Escribir un programa que pregunte el nombre del usuario en la consola y después de que el usuario lo introduzca muestre por pantalla la cadena\n",
        "# ¡Hola <nombre>!, donde <nombre> es el nombre que el usuario haya introducido.\n",
        "\n",
        "UserName = input(\"¿Cual es tu nombre? : \")\n",
        "print(\"Hola \" , UserName +\"!\")"
      ],
      "metadata": {
        "colab": {
          "base_uri": "https://localhost:8080/"
        },
        "id": "prg8uis4xYOj",
        "outputId": "ff1957fe-7478-4ca3-cbdb-c3016b43bdc1"
      },
      "execution_count": null,
      "outputs": [
        {
          "output_type": "stream",
          "name": "stdout",
          "text": [
            "What 's your name? : saul\n",
            "Hola  saul!\n"
          ]
        }
      ]
    },
    {
      "cell_type": "code",
      "source": [
        "#Ejercicio 4\n",
        "#Escribir un programa que muestre por pantalla el resultado de la siguiente operación aritmética (3+2 / 2,5) 2.\n",
        "\n",
        "#print(((3+2)/2.5)**2)\n",
        "\n",
        "\n",
        "resultado = ((3 + 2) / 2.5) ** 2\n",
        "print(f'(3+2/2,5)^2 = {resultado}')"
      ],
      "metadata": {
        "colab": {
          "base_uri": "https://localhost:8080/"
        },
        "id": "qrsUX57Bx1zT",
        "outputId": "50464f36-d4eb-4d3c-ef39-41f80f4365ee"
      },
      "execution_count": null,
      "outputs": [
        {
          "output_type": "stream",
          "name": "stdout",
          "text": [
            "(3+2/2,5)^2 = 4.0\n"
          ]
        }
      ]
    },
    {
      "cell_type": "code",
      "source": [
        "#Ejercicio 5\n",
        "#Escribir un programa que pregunte al usuario por el número de horas trabajadas y el costo por hora. Después debe\n",
        "#mostrar por pantalla el sueldo que le corresponde.\n",
        "\n",
        "HorasTrabajadas = int(input(\"Cuantas horas trabajaste? :\"))\n",
        "CostoHora = float(input(\"Cuanto es el costo x hora? : \"))\n",
        "Sueldo = (HorasTrabajadas*CostoHora)\n",
        "print(f\"Mi salario es: ${Sueldo} \")\n"
      ],
      "metadata": {
        "colab": {
          "base_uri": "https://localhost:8080/"
        },
        "id": "X2v44Q81zIMD",
        "outputId": "3de51208-f416-45ea-b3f9-a3fa55e6ce00"
      },
      "execution_count": null,
      "outputs": [
        {
          "output_type": "stream",
          "name": "stdout",
          "text": [
            "Cuantas horas trabajaste? :5\n",
            "Cuanto es el costo x hora? : 100\n",
            "Mi salario es: $500.0 \n"
          ]
        }
      ]
    },
    {
      "cell_type": "code",
      "source": [
        "#EJERCICIO 6\n",
        "# Escribir un programa que lea un entero positivo, N, introducido por el usuario y después muestre en la pantalla la suma\n",
        "# de todos los enteros desde 1 hasta N. La suma de los N primeros enteros positivos puede ser calculada de la siguiente\n",
        "# forma. suma = n(n + 1 ) / 2\n",
        "\n",
        "\"\"\"\n",
        "numero= int(input(\"Introduce un numero entero positivo\"))\n",
        "\n",
        "if numero>= 1:\n",
        "  for i in range (1 , numero+1):\n",
        "    print(i)\n",
        "\"\"\"\n",
        "\"\"\" i=1\n",
        "numero=int(input(\"ingrese un numeroo: \"))\n",
        "while i<= numero:\n",
        "  print(i)\n",
        "  i+=1\"\"\"\n",
        "\n",
        "entero_positivo = int(input(\"Introduce un número entero positivo: \"))\n",
        "suma = (entero_positivo * (entero_positivo + 1)) // 2\n",
        "print(f'El Resultado es: {suma}')\n",
        "\n"
      ],
      "metadata": {
        "colab": {
          "base_uri": "https://localhost:8080/"
        },
        "id": "ZNtWNzBY1GTq",
        "outputId": "94362f15-0094-4c51-d4ae-9e0643377925"
      },
      "execution_count": null,
      "outputs": [
        {
          "output_type": "stream",
          "name": "stdout",
          "text": [
            "Introduce un número entero positivo: 3\n",
            "El Resultado es: 6\n"
          ]
        }
      ]
    },
    {
      "cell_type": "code",
      "source": [
        "#Ejercicio 7\n",
        "#Escribir un programa que pida al usuario su peso (kg) y estatura ( en metros), calcule el índice de masa corporal y lo\n",
        "#almacene en una variable, y muestre por pantalla la frase Tu índice de masa corporal es <imc> donde <imc> es el\n",
        "#índice de masa corporal calculado redondeado con dos decimales.\n",
        "\n",
        "peso_corporal=float(input(\"Ingrese su peso en Kg: \"))\n",
        "estatura = float(input(\"Ingrese su altura en metros: \"))\n",
        "IMC = peso_corporal/ (estatura**2)\n",
        "print(f\"Su indice de masa corporal es: {IMC} \" )\n"
      ],
      "metadata": {
        "colab": {
          "base_uri": "https://localhost:8080/"
        },
        "id": "Mj_M_QT52ycK",
        "outputId": "2545e2c0-3276-4eec-f73b-6428dae8542c"
      },
      "execution_count": null,
      "outputs": [
        {
          "output_type": "stream",
          "name": "stdout",
          "text": [
            "Ingrese su peso en Kg: 60\n",
            "Ingrese su altura en metros: 1.60\n",
            " Su indice de masa corporal es: 23.437499999999996 \n"
          ]
        }
      ]
    },
    {
      "cell_type": "code",
      "source": [
        "#Ejercicio 8\n",
        "#Escribir un programa que pida al usuario dos números enteros por pantalla la <n> entre <m> da un cociente <c> y un\n",
        "#resto <r>, donde <n> y <m> son los números introducidos por el usuario, y <c> y <r> son el cociente y el resto de la\n",
        "#división entera respectivamente.\n",
        "\n",
        "num1=int(input(\"ingrese el primer numero entero: \"))\n",
        "num2=int(input(\"ingrese el segundo numero entero: \"))\n",
        "\n",
        "\n",
        "cociente=(num1//num2)\n",
        "\n",
        "resto= num1%num2\n",
        "\n",
        "print(f\"el cociente de la division es : {cociente} y su resto es : {resto} \")\n"
      ],
      "metadata": {
        "colab": {
          "base_uri": "https://localhost:8080/"
        },
        "id": "LChi42Zh4nPx",
        "outputId": "7b5735a0-e222-43c2-fced-6df41f4819b2"
      },
      "execution_count": null,
      "outputs": [
        {
          "output_type": "stream",
          "name": "stdout",
          "text": [
            "ingrese el primer numero entero: 15\n",
            "ingrese el segundo numero entero: 5\n",
            "el cociente de la division es : 3 y su resto es : 0 \n"
          ]
        }
      ]
    },
    {
      "cell_type": "code",
      "source": [
        "#Ejercicio 9\n",
        "#Escribir un programa que pregunte al usuario una cantidad a invertir, el interés anual y el número de años y muestre\n",
        "#por pantalla el capital obtenido en la inversión. capital + (cantidad * (intereses / 100 + 1) años)\n",
        "\"\"\"\n",
        "capital=float(input(\"Que cantidad desea invertir: \"))\n",
        "interes = float(input(\"Cuantos intereses se desea generar: \"))\n",
        "años= float(input(\"A cuantos años desea invertir : \"))\n",
        "\n",
        "monto = capital*(1+interes/100)**años\n",
        "\n",
        "print(monto)\n",
        "\"\"\"\n",
        "cantidad = capital = float(input(\"Que cantidad desesa invertir?: \"))\n",
        "\n",
        "interes=float(input(\"ingrese el interes anual: \"))\n",
        "años = int(input(\"Cantidad de años a invertir: \"))\n",
        "\n",
        "inversion= capital + (cantidad * (interes/100+1)**años)\n",
        "print(f\"el capital final es de : {inversion}\")\n"
      ],
      "metadata": {
        "colab": {
          "base_uri": "https://localhost:8080/"
        },
        "id": "2IYTVDXhXf8R",
        "outputId": "c9f3c2b5-fae6-4fb3-d7e9-0305df1811b7"
      },
      "execution_count": null,
      "outputs": [
        {
          "output_type": "stream",
          "name": "stdout",
          "text": [
            "Que cantidad desesa invertir?: 100\n",
            "ingrese el interes anual: 100\n",
            "Cantidad de años a invertir: 2\n",
            "el capital final es de : 500.0\n"
          ]
        }
      ]
    },
    {
      "cell_type": "code",
      "source": [
        "#Ejercicio 10:\n",
        "\"\"\"Una juguetería tiene mucho éxito en dos de sus productos: payasos y muñecas. Suele hacer venta por web y la empresa\n",
        "de logística les cobra por peso de cada paquete así que deben calcular el de los payasos y muñecas que saldrán en cada\n",
        "paquete a demanda. Cada payaso pesa 112 gr y cada muñeca 75 gr. Escribir un programa que lea el número de\n",
        "payasos y muñecas vendidos en el último pedido y calcule el peso total del paquete que será enviado.\"\"\"\n",
        "\n",
        "peso_payaso = 112\n",
        "peso_muñeca = 75\n",
        "\n",
        "cantidad_payasos= int(input(\"ingrese la cantidad de payasos vendidos: \"))\n",
        "cantidad_muñecas=int(input(\"Ingrese la cantidad de muñecas vendidas: \"))\n",
        "\n",
        "peso_total= cantidad_payasos*peso_payaso + cantidad_muñecas*peso_muñeca\n",
        "\n",
        "print(f\"El peso total del paquete es : {peso_total/1000} kg \")"
      ],
      "metadata": {
        "colab": {
          "base_uri": "https://localhost:8080/"
        },
        "id": "DwuZPB_3ttuf",
        "outputId": "324141c1-e2e9-424a-d909-a15d94650bcb"
      },
      "execution_count": null,
      "outputs": [
        {
          "output_type": "stream",
          "name": "stdout",
          "text": [
            "ingrese la cantidad de payasos vendidos: 10\n",
            "Ingrese la cantidad de muñecas vendidas: 10\n",
            "El peso total del paquete es : 1.87 kg \n"
          ]
        }
      ]
    },
    {
      "cell_type": "code",
      "source": [
        "# Ejercicio 11\n",
        "#Imagina que acabas de abrir una nueva cuenta de ahorros que te ofrece el 4% de interés al año. Estos ahorros debido a\n",
        "#intereses, que no se cobran hasta finales de año, se te suman al saldo final de tu cuenta de ahorros. Escribir un\n",
        "#programa que comience leyendo la cantidad de dinero en la cuenta de ahorros introducida por el usuario. Después el\n",
        "#programa debe calcular y mostrar por pantalla la cantidad de ahorros tras el primer, segundo y tercer años. Redondear\n",
        "#cada cantidad a dos decimales.\n",
        "\n",
        "año=1\n",
        "dinero=float(input(\"Ingrese la cantidad de dinero en cuenta: \"))\n",
        "while año<=3:\n",
        "  interes = dinero* 4 /100\n",
        "\n",
        "  dinero +=interes\n",
        "  print(dinero)\n",
        "  año+=1\n"
      ],
      "metadata": {
        "colab": {
          "base_uri": "https://localhost:8080/",
          "height": 157
        },
        "id": "aq1N-6-B2-Ee",
        "outputId": "a6e98994-e75c-4902-ab46-87865575ef2e"
      },
      "execution_count": null,
      "outputs": [
        {
          "output_type": "stream",
          "name": "stdout",
          "text": [
            "Ingrese la cantidad de dinero en cuenta: 100\n",
            "104.0\n",
            "108.16\n",
            "112.4864\n"
          ]
        },
        {
          "output_type": "execute_result",
          "data": {
            "text/plain": [
              "'\\n\\n\\n\\nEjercicio 11\\nImagina que acabas de abrir una nueva cuenta de ahorros que te ofrece el 4% de interés al año. Estos ahorros debido a\\nintereses, que no se cobran hasta finales de año, se te suman al saldo final de tu cuenta de ahorros. Escribir un\\nprograma que comience leyendo la cantidad de dinero en la cuenta de ahorros introducida por el usuario. Después el\\nprograma debe calcular y mostrar por pantalla la cantidad de ahorros tras el primer, segundo y tercer años. Redondear\\ncada cantidad a dos decimales.\\n\\n\\n\\ndinero = float(input(\"ingrese la cantidad de dinero : \"))\\n\\n'"
            ],
            "application/vnd.google.colaboratory.intrinsic+json": {
              "type": "string"
            }
          },
          "metadata": {},
          "execution_count": 2
        }
      ]
    },
    {
      "cell_type": "code",
      "source": [
        "\"\"\"### Ejercicio 12\n",
        "Una panadería vende barras de pan a $3.499 cada una. El pan que no es del día tiene un descuento de un 60%. Escribir\n",
        "un programa que comience leyendo el numeros de barras de pan vendidas que no son del día. Después el programa\n",
        "debe mostrar el precio habitual de una barra de pan, el descuento que se le hace por no ser del día y el costo final total.\n",
        "\"\"\"\n",
        "pan = 3499\n",
        "pan_descuento = 60/100\n",
        "cantidad_pan_descuento = int(input(\"ingrese la cantidad de panes vendidos que no son del dia :  \"))\n",
        "costo_final = cantidad_pan_descuento  * pan\n",
        "costo_final_descuento= cantidad_pan_descuento * pan * (1-pan_descuento)\n",
        "print(f\"precio del pan:  {pan}\")\n",
        "print(f\"Descuento por no ser del dia : {pan_descuento*100}%\")\n",
        "print(f\"Cantidad por unidad con el descuento aplicado : {costo_final_descuento}\")\n",
        "print(f\"costo final sin el descuento : {costo_final}\")\n",
        "\n"
      ],
      "metadata": {
        "colab": {
          "base_uri": "https://localhost:8080/"
        },
        "id": "U9rqyiPlEDR1",
        "outputId": "4c4e9f98-7239-4536-edd2-d2eda26109f5"
      },
      "execution_count": null,
      "outputs": [
        {
          "output_type": "stream",
          "name": "stdout",
          "text": [
            "ingrese la cantidad de panes vendidos que no son del dia :  10\n",
            "precio del pan:  3499\n",
            "Descuento por no ser del dia : 60.0%\n",
            "Cantidad por unidad con el descuento aplicado : 13996.0\n",
            "costo final sin el descuento : 34990\n"
          ]
        }
      ]
    },
    {
      "cell_type": "markdown",
      "source": [
        "# LISTAS , TUPLAS , DICCIONARIOS Y SET"
      ],
      "metadata": {
        "id": "OWjwentLTEA_"
      }
    },
    {
      "cell_type": "code",
      "source": [
        "# EJERCICIO 1\n",
        "Materias = [\"Matemáticas\",\"Física\",\"Química\",\"Historia\",\"Lengua\"]\n",
        "print(f\"{Materias}\")\n",
        "\n",
        "\n"
      ],
      "metadata": {
        "id": "SHvkhF2lC7RR",
        "colab": {
          "base_uri": "https://localhost:8080/"
        },
        "outputId": "ef1e5b97-a245-47a0-fe1d-235489e5f242"
      },
      "execution_count": null,
      "outputs": [
        {
          "output_type": "stream",
          "name": "stdout",
          "text": [
            "['Matemáticas', 'Física', 'Química', 'Historia', 'Lengua']\n"
          ]
        }
      ]
    },
    {
      "cell_type": "code",
      "source": [
        "#EJERCICIO 2\n",
        "\"\"\"Escribir un programa que almacene las asignaturas de un curso (por ejemplo: Matemáticas, Física, Química, Historia y Lengua)\n",
        "en una lista y la muestre por pantalla el mensaje Yo estudio <asignatura>, donde <asignatura> es cada una de las asignaturas\n",
        "de la lista.\"\"\"\n",
        "\n",
        "Materia = [\"Matemáticas\",\"Física\",\"Química\",\"Historia\",\"Lengua\"]\n",
        "for Materia in Materias:\n",
        "    print(f\"Yo estudio {Materia}\")"
      ],
      "metadata": {
        "id": "5mkwy0VC3rg-",
        "colab": {
          "base_uri": "https://localhost:8080/"
        },
        "outputId": "c6b4fdb7-a14e-4a5f-87fb-47cb1907ed14"
      },
      "execution_count": null,
      "outputs": [
        {
          "output_type": "stream",
          "name": "stdout",
          "text": [
            "Yo estudio Matemáticas\n",
            "Yo estudio Física\n",
            "Yo estudio Química\n",
            "Yo estudio Historia\n",
            "Yo estudio Lengua\n"
          ]
        }
      ]
    },
    {
      "cell_type": "code",
      "source": [
        "#Ejercicio 3\n",
        "\"\"\"\"Escribir un programa que almacene las asignaturas de un curso (por ejemplo: Matemáticas, Física, Química, Historia y Lengua)\n",
        "en una lista, pregunte al usuario la nota que ha sacado en cada asignatura, y después las muestre por pantalla con el\n",
        "mensaje En <asignatura> has sacado <nota> donde <asignatura> es cada una de las asignaturas de la lista y <nota> cada una\n",
        "de las correspondientes notas introducidas por el usuario.\"\"\"\n",
        "\n",
        "nota = []\n",
        "\n",
        "Materias = [\"Matemáticas\",\"Física\",\"Química\",\"Historia\",\"Lengua\"]\n",
        "for Materia in Materias:\n",
        "    notas_numericas= input(f\"Que nota ha sacado en {Materia} \")\n",
        "    nota.append(notas_numericas)\n",
        "for i in range (len(Materias)):\n",
        "  print(f\"En la asignatura {Materias[i]} a sacado : {nota[i]}\")"
      ],
      "metadata": {
        "id": "GpVslwXggYMc",
        "colab": {
          "base_uri": "https://localhost:8080/"
        },
        "outputId": "3c5999d5-b9b9-4b8f-9554-ea00971a9faf"
      },
      "execution_count": null,
      "outputs": [
        {
          "output_type": "stream",
          "name": "stdout",
          "text": [
            "Que nota ha sacado en Matemáticas 1\n",
            "Que nota ha sacado en Física 2\n",
            "Que nota ha sacado en Química 3\n",
            "Que nota ha sacado en Historia 4\n",
            "Que nota ha sacado en Lengua 5\n",
            "En la asignatura Matemáticas a sacado : 1\n",
            "En la asignatura Física a sacado : 2\n",
            "En la asignatura Química a sacado : 3\n",
            "En la asignatura Historia a sacado : 4\n",
            "En la asignatura Lengua a sacado : 5\n"
          ]
        }
      ]
    },
    {
      "cell_type": "code",
      "source": [
        "#EJERCICIO 4\n",
        "#Escribir un programa que pregunte al usuario los números ganadores de la lotería, los almacene en una lista y los muestre por\n",
        "#pantalla ordenados de menor a mayor.\n",
        "lista= []\n",
        "opcion=0\n",
        "print(\"1-Ingresar numero \\n0-Salir\")\n",
        "opcion=int(input(\"ingrese una opcion: \"))\n",
        "while opcion!=0 :\n",
        "  if opcion == 1:\n",
        "    numeros_ganadores=int(input(\"ingrese los numeros ganadores de loteria: \"))\n",
        "    lista.append(numeros_ganadores)\n",
        "    #print(lista)\n",
        "    lista.sort()\n",
        "    print(lista)\n",
        "    print(\"\\n\")\n",
        "    print(\"1-Ingresar numero \\n2-Salir\")\n",
        "    opcion=int(input(\"ingrese una opcion: \"))\n",
        "  elif opcion !=1 :\n",
        "    print (f\"la lista ordenada de menor a mayor quedaria asi : {lista}\")\n",
        "    break\n",
        "\n"
      ],
      "metadata": {
        "id": "FZrrHvPjga9s",
        "colab": {
          "base_uri": "https://localhost:8080/"
        },
        "outputId": "03964c29-211d-406f-c1cc-c0e0af6730ef"
      },
      "execution_count": null,
      "outputs": [
        {
          "name": "stdout",
          "output_type": "stream",
          "text": [
            "1-Ingresar numero \n",
            "0-Salir\n",
            "ingrese una opcion: 0\n"
          ]
        }
      ]
    },
    {
      "cell_type": "code",
      "source": [
        "#EJERCICIO 5 DE LISTAS Y TUPLAS\n",
        "#Escribir un programa que almacene en una lista los números del 1 al 10 y los muestre por pantalla en orden inverso separados\n",
        "#por comas.\n",
        "lista= [1,2,3,4,5,6,7,8,9,10]\n",
        "\n",
        "lista.reverse()\n",
        "print(lista)\n"
      ],
      "metadata": {
        "colab": {
          "base_uri": "https://localhost:8080/"
        },
        "id": "PSY8JaOIobWW",
        "outputId": "7e60cb11-0856-4935-e579-6167586f6f3f"
      },
      "execution_count": null,
      "outputs": [
        {
          "output_type": "stream",
          "name": "stdout",
          "text": [
            "[10, 9, 8, 7, 6, 5, 4, 3, 2, 1]\n"
          ]
        }
      ]
    },
    {
      "cell_type": "code",
      "source": [
        "#EXERCISE 6 LISTAS Y TUPLAS\n",
        "#Escribir un programa que almacene las asignaturas de un curso (por ejemplo: Matemáticas, Física, Química, Historia y Lengua)\n",
        "#en una lista, pregunte al usuario la nota que ha sacado en cada asignatura y elimine de la lista las asignaturas aprobadas. Al\n",
        "#final el programa debe mostrar por pantalla las asignaturas que el usuario tiene que repetir.\n",
        "\n",
        "Asignaturas = [\"Matematicas\" , \"Fisica\" , \"Quimica\" , \"Historia\" , \"Lengua\"]\n",
        "notas=[]\n",
        "\n",
        "for Asignatura in Asignaturas:\n",
        "  nota = int(input(f\"Que nota saco en {Asignatura} : \"))\n",
        "  notas.append(nota)\n",
        "print(notas)\n",
        "\n",
        "materias_pendiente=[]\n",
        "\n",
        "for i in range (len(Asignaturas)):\n",
        "  materia = Asignaturas[i]\n",
        "  valor = notas[i]\n",
        "  print(f\"Asignatura: {materia}, Nota: {valor}\")\n",
        "  if valor<7:\n",
        "\n",
        "    materias_pendiente.append(materia)\n",
        "\n",
        "print(f\"Lista de Materias pendientes : {materias_pendiente}\")"
      ],
      "metadata": {
        "colab": {
          "base_uri": "https://localhost:8080/"
        },
        "id": "kHz6XktQqv1H",
        "outputId": "75e84c2c-3016-434a-d5a2-d4769539e4d1"
      },
      "execution_count": null,
      "outputs": [
        {
          "output_type": "stream",
          "name": "stdout",
          "text": [
            "Que nota saco en Matematicas : 1\n",
            "Que nota saco en Fisica : 7\n",
            "Que nota saco en Quimica : 5\n",
            "Que nota saco en Historia : 9\n",
            "Que nota saco en Lengua : 4\n",
            "[1, 7, 5, 9, 4]\n",
            "Asignatura: Matematicas, Nota: 1\n",
            "Asignatura: Fisica, Nota: 7\n",
            "Asignatura: Quimica, Nota: 5\n",
            "Asignatura: Historia, Nota: 9\n",
            "Asignatura: Lengua, Nota: 4\n",
            "Lista de Materias pendientes : ['Matematicas', 'Quimica', 'Lengua']\n"
          ]
        }
      ]
    },
    {
      "cell_type": "code",
      "source": [
        "#EJERCICIO 1 DICCIONARIOS\n",
        "#Escribir un programa que guarde en una variable el diccionario {'Euro':'€', 'Dollar':'$', 'Yen':'¥'}, pregunte al usuario\n",
        "#por una divisa y muestre su símbolo o un mensaje de aviso si la divisa no está en el diccionario.\n",
        "divisas = {'Euro':'€','Dolar':'$', 'Yen':'¥'}\n",
        "consulta=input(\"Que divisa desea mostrar: \")\n",
        "if consulta in divisas :\n",
        "  print(divisas[consulta])\n",
        "\n",
        "\n",
        "#for x in divisas:\n",
        " # print(x)\"\"\"\n"
      ],
      "metadata": {
        "colab": {
          "base_uri": "https://localhost:8080/"
        },
        "id": "c-9JZAhnDQm-",
        "outputId": "00710223-9077-46e6-e7d1-ea30523cefbd"
      },
      "execution_count": null,
      "outputs": [
        {
          "output_type": "stream",
          "name": "stdout",
          "text": [
            "Que divisa desea mostrar: Euro\n",
            "€\n"
          ]
        }
      ]
    },
    {
      "cell_type": "code",
      "source": [
        "#EJERCICIO 2\n",
        "#Escribir un programa que pregunte al usuario su nombre, edad, dirección y teléfono y lo guarde en un diccionario. Después\n",
        "#debe mostrar por pantalla el mensaje <nombre> tiene <edad> años, vive en <dirección> y su número de teléfono es <teléfono>.\n",
        "\n",
        "datos= {}\n",
        "\n",
        "datos[\"nombre\"]=input(\"ingrese su nombre : \")\n",
        "datos[\"edad\"] = input(\"ingrese su edad: \")\n",
        "datos[\"direccion\"] = input(\"ingrese su direccion: \")\n",
        "datos[\"telefono\"]= (input(\"ingrese su telefono: \"))\n",
        "print(datos)\n",
        "print(f\"{(datos['nombre'])} tiene {(datos['edad'])} años , vive en {(datos['direccion'])} y su numero de telefono es: {(datos['telefono'])} \")\n"
      ],
      "metadata": {
        "colab": {
          "base_uri": "https://localhost:8080/"
        },
        "id": "Qr30w5MNLcLp",
        "outputId": "70c93875-a3a8-4454-b3fa-5bac0fea3ec4"
      },
      "execution_count": null,
      "outputs": [
        {
          "output_type": "stream",
          "name": "stdout",
          "text": [
            "ingrese su nombre : dmitry\n",
            "ingrese su edad: 26\n",
            "ingrese su direccion: moscow\n",
            "ingrese su telefono: 12321421216\n",
            "{'nombre': 'dmitry', 'edad': '26', 'direccion': 'moscow', 'telefono': '12321421216'}\n",
            "dmitry tiene 26 años , vive en moscow y su numero de telefono es: 12321421216 \n"
          ]
        }
      ]
    },
    {
      "cell_type": "code",
      "source": [
        "#EJERCICIO 3\n",
        "#Escribir un programa que guarde en un diccionario los precios de las frutas de la tabla, pregunte al usuario por una fruta, un\n",
        "#número de kilos y muestre por pantalla el precio de ese número de kilos de fruta. Si la fruta no está en el diccionario debe\n",
        "#mostrar un mensaje informando de ello. Banana 500, Manzana 300, Pera 400 y Naranja 600.\n",
        "\n",
        "# Diccionario con las frutas y sus precios por kilo\n",
        "precios = {\n",
        "    \"Banana\": 500,\n",
        "    \"Manzana\": 300,\n",
        "    \"Pera\": 400,\n",
        "    \"Naranja\": 600\n",
        "}\n",
        "\n",
        "# Pedir datos al usuario\n",
        "fruta = input(\"Ingrese una fruta: \").capitalize()\n",
        "kilos = float(input(\"Ingrese la cantidad de kilos: \"))\n",
        "\n",
        "# Verificar si la fruta existe en el diccionario\n",
        "if fruta in precios:\n",
        "    total = precios[fruta] * kilos\n",
        "    print(f\"El precio de {kilos} kilos de {fruta} es: ${total}\")\n",
        "else:\n",
        "    print(\"Lo siento, esa fruta no está en la lista.\")"
      ],
      "metadata": {
        "colab": {
          "base_uri": "https://localhost:8080/"
        },
        "id": "uMyWidt2FWE_",
        "outputId": "241a4df8-e08c-4dac-f378-5a7a689d8355"
      },
      "execution_count": null,
      "outputs": [
        {
          "output_type": "stream",
          "name": "stdout",
          "text": [
            "{'Banana': 500, 'Manzana': 300, 'Pera': 400, 'Naranja': 600}\n"
          ]
        }
      ]
    },
    {
      "cell_type": "code",
      "source": [
        "#Ejercicio 4\n",
        "#Escribir un programa que pregunte una fecha en formato dd/mm/aaaa y muestre por pantalla la misma fecha en formato dd\n",
        "#de <mes> de aaaa donde <mes> es el nombre del mes.\n",
        "\n",
        "fecha= input(\"Ingrese la fecha en formato dd/mm/aaaa: \")\n",
        "\n",
        "dia, mes, año = fecha.split(\"/\")\n",
        "print(fecha)\n",
        "\n",
        "meses = {\n",
        "    \"01\": \"enero\",\n",
        "    \"02\": \"febrero\",\n",
        "    \"03\": \"marzo\",\n",
        "    \"04\": \"abril\",\n",
        "    \"05\": \"mayo\",\n",
        "    \"06\": \"junio\",\n",
        "    \"07\": \"julio\",\n",
        "    \"08\": \"agosto\",\n",
        "    \"09\": \"septiembre\",\n",
        "    \"10\": \"octubre\",\n",
        "    \"11\": \"noviembre\",\n",
        "    \"12\": \"diciembre\"\n",
        "}\n",
        "mes_nombre = meses[mes]\n",
        "print(f\"{dia} de {mes_nombre} de {año}\")\n"
      ],
      "metadata": {
        "colab": {
          "base_uri": "https://localhost:8080/"
        },
        "id": "HkvEz039T-OC",
        "outputId": "6b7e2063-0bd0-4e39-be00-0f8c1031c97f"
      },
      "execution_count": null,
      "outputs": [
        {
          "output_type": "stream",
          "name": "stdout",
          "text": [
            "Ingrese la fecha en formato dd/mm/aaaa: 25/05/2025\n",
            "25/05/2025\n",
            "25 de mayo de 2025\n"
          ]
        }
      ]
    },
    {
      "cell_type": "code",
      "source": [
        "#Ejercicio 5\n",
        "#Escribir un programa que almacene el diccionario con los créditos de las asignaturas de un curso {'Matemáticas': 6, 'Física': 4,\n",
        "#'Química': 5} y después muestre por pantalla los créditos de cada asignatura en el formato <asignatura> tiene <créditos>\n",
        "#créditos, donde <asignatura> es cada una de las asignaturas del curso, y <créditos> son sus créditos. Al final debe mostrar\n",
        "#también el número total de créditos del curso.\n",
        "creditos = {'Matemáticas': 6, 'Física': 4,'Química': 5}\n",
        "\n",
        "for clave , valor in creditos.items() :\n",
        "  print(f\"{clave} tiene {valor} creditos\")\n",
        "\n",
        "sum(creditos.values())\n"
      ],
      "metadata": {
        "colab": {
          "base_uri": "https://localhost:8080/"
        },
        "id": "Zxn5PUf7VcHq",
        "outputId": "5e408d6a-330f-4973-c9dd-28a7ee0f38ff"
      },
      "execution_count": null,
      "outputs": [
        {
          "output_type": "stream",
          "name": "stdout",
          "text": [
            "Matemáticas tiene 6 creditos\n",
            "Física tiene 4 creditos\n",
            "Química tiene 5 creditos\n"
          ]
        },
        {
          "output_type": "execute_result",
          "data": {
            "text/plain": [
              "15"
            ]
          },
          "metadata": {},
          "execution_count": 20
        }
      ]
    },
    {
      "cell_type": "markdown",
      "source": [
        "BUCLES WHILE Y FOR"
      ],
      "metadata": {
        "id": "Qp1f9gKbB93I"
      }
    },
    {
      "cell_type": "code",
      "source": [
        "#EJERCICIO 1\n",
        "\n",
        "#Escribir un programa que pida al usuario una palabra y la muestre por pantalla 10 veces.\n",
        "\n",
        "palabra = input(\"ingrese una palabra\")\n",
        "\n",
        "for letra in palabra:\n",
        "  print((letra +\" \\n\")*10)\n"
      ],
      "metadata": {
        "colab": {
          "base_uri": "https://localhost:8080/"
        },
        "id": "AIT62Rmac_yZ",
        "outputId": "e1485606-2c55-4776-d548-d14d2d3bec3a"
      },
      "execution_count": null,
      "outputs": [
        {
          "output_type": "stream",
          "name": "stdout",
          "text": [
            "ingrese una palabraa\n",
            "a \n",
            "a \n",
            "a \n",
            "a \n",
            "a \n",
            "a \n",
            "a \n",
            "a \n",
            "a \n",
            "a \n",
            "\n"
          ]
        }
      ]
    },
    {
      "cell_type": "code",
      "source": [
        "#Ejercicio 2 BUCLES\n",
        "#Escribir un programa que pregunte al usuario su edad y muestre por pantalla todos los años que ha cumplido (desde 1 hasta su edad).\n",
        "\n",
        "edad = int(input(\"cual es tu edad :\"))\n",
        "for numero in range (edad+1) :\n",
        "  print(numero)\n"
      ],
      "metadata": {
        "colab": {
          "base_uri": "https://localhost:8080/"
        },
        "id": "mI1TlgFkeTsB",
        "outputId": "b93219cb-4df3-478f-a3d0-c93690ba5a0e"
      },
      "execution_count": null,
      "outputs": [
        {
          "output_type": "stream",
          "name": "stdout",
          "text": [
            "cual es tu edad :10\n",
            "0\n",
            "1\n",
            "2\n",
            "3\n",
            "4\n",
            "5\n",
            "6\n",
            "7\n",
            "8\n",
            "9\n",
            "10\n"
          ]
        }
      ]
    },
    {
      "cell_type": "code",
      "source": [
        "#Ejercicio 3 BUCLES\n",
        "#Escribir un programa que pida al usuario un número entero positivo y muestre por pantalla todos los números impares desde 1 hasta ese número separados por comas.\n",
        "\n",
        "numero=int(input(\"ingrese un numero entero positivo\"))\n",
        "\n",
        "if  numero >=0:\n",
        "  for todos in range (1,numero+1,2) :\n",
        "    print(todos , end=(\",\"))\n"
      ],
      "metadata": {
        "colab": {
          "base_uri": "https://localhost:8080/"
        },
        "id": "xCNgn-w2fOqi",
        "outputId": "0b80cd4a-698c-44bb-d8e6-aa120ffc5ad3"
      },
      "execution_count": null,
      "outputs": [
        {
          "output_type": "stream",
          "name": "stdout",
          "text": [
            "ingrese un numero entero positivo9\n",
            "1,3,5,7,9,"
          ]
        }
      ]
    },
    {
      "cell_type": "code",
      "source": [
        "#• Ejercicio 4 BUCLES\n",
        "#Escribir un programa que pida al usuario un número entero positivo y muestre por pantalla la cuenta atrás desde ese número\n",
        "#hasta cero separados por comas.\n",
        "\n",
        "\n",
        "numero = int(input(\"ingrese un numero entero positivo: \"))\n",
        "\n",
        "if numero > 0:\n",
        "  for cuenta in range (numero ,0 , -1):\n",
        "    print(cuenta,end=(\",\"))\n"
      ],
      "metadata": {
        "colab": {
          "base_uri": "https://localhost:8080/"
        },
        "id": "sbyNvKGNhuLq",
        "outputId": "0f485de6-f3ea-449c-f270-531068ee894d"
      },
      "execution_count": null,
      "outputs": [
        {
          "output_type": "stream",
          "name": "stdout",
          "text": [
            "ingrese un numero entero positivo: 5\n",
            "5,4,3,2,1,"
          ]
        }
      ]
    },
    {
      "cell_type": "code",
      "source": [
        "#Ejercicio 5 BUCLES\n",
        "#Escribir un programa que pregunte al usuario una cantidad a invertir, el interés anual y el número de años, y muestre por\n",
        "#pantalla el capital obtenido en la inversión cada año que dura la inversión.\n",
        "\n",
        "\n",
        "capital = int(input(\"cantidad a invertir : \"))\n",
        "interes = int(input(\"interes anual = \"))\n",
        "años = int(input(\"numeros de años : \"))\n",
        "\n",
        "inversion= capital + (capital * (interes/100+1)**años)\n",
        "\n",
        "\n",
        "print(f\"el capital final es de : {inversion}\")\n",
        "\n"
      ],
      "metadata": {
        "colab": {
          "base_uri": "https://localhost:8080/"
        },
        "id": "IbzBSatHkP1C",
        "outputId": "514fa194-0926-482a-ccfd-3f13aef3ef6b"
      },
      "execution_count": null,
      "outputs": [
        {
          "output_type": "stream",
          "name": "stdout",
          "text": [
            "cantidad a invertir : 100\n",
            "interes anual = 10\n",
            "numeros de años : 2\n",
            "el capital final es de : 221.0\n"
          ]
        }
      ]
    },
    {
      "cell_type": "code",
      "source": [
        "#Ejercicio 5 BUCLES\n",
        "capital = int(input(\"cantidad a invertir : \"))\n",
        "interes = int(input(\"interes anual = \"))\n",
        "años = int(input(\"numeros de años : \"))\n",
        "\n",
        "for i in range(1, años+1):\n",
        "    capital = capital * (1 + interes/100)\n",
        "    print(f\"Año {i}: {capital:.2f}\")\n"
      ],
      "metadata": {
        "colab": {
          "base_uri": "https://localhost:8080/"
        },
        "id": "GNEGGgLKl9Lx",
        "outputId": "dfb1e347-f660-4d66-ed9a-a346bb3c66a5"
      },
      "execution_count": null,
      "outputs": [
        {
          "output_type": "stream",
          "name": "stdout",
          "text": [
            "cantidad a invertir : 35000\n",
            "interes anual = 10\n",
            "numeros de años : 10\n",
            "Año 1: 38500.00\n",
            "Año 2: 42350.00\n",
            "Año 3: 46585.00\n",
            "Año 4: 51243.50\n",
            "Año 5: 56367.85\n",
            "Año 6: 62004.64\n",
            "Año 7: 68205.10\n",
            "Año 8: 75025.61\n",
            "Año 9: 82528.17\n",
            "Año 10: 90780.99\n"
          ]
        }
      ]
    },
    {
      "cell_type": "code",
      "source": [
        "#EJERCICIO 6 BUCLES\n",
        "altura = int(input(\"Ingrese la altura del triángulo: \"))\n",
        "for i in range(1, altura + 1):\n",
        "  print(\"*\" * i)\n"
      ],
      "metadata": {
        "colab": {
          "base_uri": "https://localhost:8080/"
        },
        "id": "qFGA449Ym7H7",
        "outputId": "af9cb7f7-a7b4-4dcc-9f05-67a5f78591cc"
      },
      "execution_count": null,
      "outputs": [
        {
          "output_type": "stream",
          "name": "stdout",
          "text": [
            "Ingrese la altura del triángulo: 4\n",
            "*\n",
            "**\n",
            "***\n",
            "****\n"
          ]
        }
      ]
    },
    {
      "cell_type": "code",
      "source": [
        "#Ejercicio 7\n",
        "#Escribir un programa que muestre por pantalla la tabla de multiplicar del 1 al 10\n",
        "for tabla in range (1,11):\n",
        "  for multiplicador in range (1,11):\n",
        "    print(f\"{tabla} x {multiplicador} = {tabla * multiplicador}\")\n"
      ],
      "metadata": {
        "colab": {
          "base_uri": "https://localhost:8080/"
        },
        "id": "s3OdWP9eLd7B",
        "outputId": "42bc6624-ae0e-4341-e500-0d7511071919"
      },
      "execution_count": null,
      "outputs": [
        {
          "output_type": "stream",
          "name": "stdout",
          "text": [
            "1 x 1 = 1\n",
            "1 x 2 = 2\n",
            "1 x 3 = 3\n",
            "1 x 4 = 4\n",
            "1 x 5 = 5\n",
            "1 x 6 = 6\n",
            "1 x 7 = 7\n",
            "1 x 8 = 8\n",
            "1 x 9 = 9\n",
            "1 x 10 = 10\n",
            "2 x 1 = 2\n",
            "2 x 2 = 4\n",
            "2 x 3 = 6\n",
            "2 x 4 = 8\n",
            "2 x 5 = 10\n",
            "2 x 6 = 12\n",
            "2 x 7 = 14\n",
            "2 x 8 = 16\n",
            "2 x 9 = 18\n",
            "2 x 10 = 20\n",
            "3 x 1 = 3\n",
            "3 x 2 = 6\n",
            "3 x 3 = 9\n",
            "3 x 4 = 12\n",
            "3 x 5 = 15\n",
            "3 x 6 = 18\n",
            "3 x 7 = 21\n",
            "3 x 8 = 24\n",
            "3 x 9 = 27\n",
            "3 x 10 = 30\n",
            "4 x 1 = 4\n",
            "4 x 2 = 8\n",
            "4 x 3 = 12\n",
            "4 x 4 = 16\n",
            "4 x 5 = 20\n",
            "4 x 6 = 24\n",
            "4 x 7 = 28\n",
            "4 x 8 = 32\n",
            "4 x 9 = 36\n",
            "4 x 10 = 40\n",
            "5 x 1 = 5\n",
            "5 x 2 = 10\n",
            "5 x 3 = 15\n",
            "5 x 4 = 20\n",
            "5 x 5 = 25\n",
            "5 x 6 = 30\n",
            "5 x 7 = 35\n",
            "5 x 8 = 40\n",
            "5 x 9 = 45\n",
            "5 x 10 = 50\n",
            "6 x 1 = 6\n",
            "6 x 2 = 12\n",
            "6 x 3 = 18\n",
            "6 x 4 = 24\n",
            "6 x 5 = 30\n",
            "6 x 6 = 36\n",
            "6 x 7 = 42\n",
            "6 x 8 = 48\n",
            "6 x 9 = 54\n",
            "6 x 10 = 60\n",
            "7 x 1 = 7\n",
            "7 x 2 = 14\n",
            "7 x 3 = 21\n",
            "7 x 4 = 28\n",
            "7 x 5 = 35\n",
            "7 x 6 = 42\n",
            "7 x 7 = 49\n",
            "7 x 8 = 56\n",
            "7 x 9 = 63\n",
            "7 x 10 = 70\n",
            "8 x 1 = 8\n",
            "8 x 2 = 16\n",
            "8 x 3 = 24\n",
            "8 x 4 = 32\n",
            "8 x 5 = 40\n",
            "8 x 6 = 48\n",
            "8 x 7 = 56\n",
            "8 x 8 = 64\n",
            "8 x 9 = 72\n",
            "8 x 10 = 80\n",
            "9 x 1 = 9\n",
            "9 x 2 = 18\n",
            "9 x 3 = 27\n",
            "9 x 4 = 36\n",
            "9 x 5 = 45\n",
            "9 x 6 = 54\n",
            "9 x 7 = 63\n",
            "9 x 8 = 72\n",
            "9 x 9 = 81\n",
            "9 x 10 = 90\n",
            "10 x 1 = 10\n",
            "10 x 2 = 20\n",
            "10 x 3 = 30\n",
            "10 x 4 = 40\n",
            "10 x 5 = 50\n",
            "10 x 6 = 60\n",
            "10 x 7 = 70\n",
            "10 x 8 = 80\n",
            "10 x 9 = 90\n",
            "10 x 10 = 100\n"
          ]
        }
      ]
    },
    {
      "cell_type": "code",
      "source": [
        "# Ejercicio 8\n",
        "#Escribir un programa que pida al usuario un número entero y muestre por pantalla un triángulo rectángulo como el de más abajo.\n",
        "#1\n",
        "#3 1\n",
        "#5 3 1\n",
        "#7 5 3 1\n",
        "#9 7 5 3 1\n",
        "\n",
        "numero = int(input(\"ingrese un numero: \"))\n",
        "contador = 1\n",
        "for i in range (1 , numero+1 ,2):\n",
        "  #lista=[]\n",
        "  for j in range (i, 0 , -2):\n",
        "    print(j,end=\"\")\n",
        "  print()\n",
        "\n"
      ],
      "metadata": {
        "colab": {
          "base_uri": "https://localhost:8080/"
        },
        "id": "kY64wsEOPI6N",
        "outputId": "32a808b8-4493-475c-ebbf-04489ea5ba09"
      },
      "execution_count": null,
      "outputs": [
        {
          "output_type": "stream",
          "name": "stdout",
          "text": [
            "ingrese un numero: 9\n",
            "1\n",
            "31\n",
            "531\n",
            "7531\n",
            "97531\n"
          ]
        }
      ]
    },
    {
      "cell_type": "code",
      "source": [
        "#Ejercicio 9\n",
        "#Escribir un programa que almacene la cadena de caracteres contraseña en una variable, pregunte al usuario por la contraseña hasta que introduzca la contraseña correcta.\n",
        "\n",
        "clave = \"QWERTYUIOP\"\n",
        "\n",
        "intento = input(\"Introduce la contraseña: \")\n",
        "\n",
        "while intento != clave:\n",
        "    intento = input(\"Incorrecto. Intenta de nuevo: \")\n",
        "\n",
        "print(\"¡Contraseña correcta!\")\n",
        "\n",
        "\n"
      ],
      "metadata": {
        "colab": {
          "base_uri": "https://localhost:8080/"
        },
        "id": "CxuEYVGikGaV",
        "outputId": "687a1e45-ed0f-4f76-c150-58f66f67a2a1"
      },
      "execution_count": null,
      "outputs": [
        {
          "output_type": "stream",
          "name": "stdout",
          "text": [
            "Introduce la contraseña: ASD\n",
            "Incorrecto. Intenta de nuevo: QWERT\n",
            "Incorrecto. Intenta de nuevo: QWERTYUIOP\n",
            "¡Contraseña correcta!\n"
          ]
        }
      ]
    },
    {
      "cell_type": "markdown",
      "source": [
        "Jueves 14/08 Funciones"
      ],
      "metadata": {
        "id": "Qzz69YEExPa-"
      }
    },
    {
      "cell_type": "markdown",
      "source": [
        "#FUNCIONES\n"
      ],
      "metadata": {
        "id": "v-32McEhS34O"
      }
    },
    {
      "cell_type": "markdown",
      "source": [
        "EJERCICIOS 14/8\n",
        "FUNCIONES"
      ],
      "metadata": {
        "id": "CloFq4Xv-4xd"
      }
    },
    {
      "cell_type": "code",
      "source": [
        "#EJERCICIO 1:ESCRIBIR CON UNA FUNCION QUE MUESTRE POR PANTALLA \"HOLA AMIGA\" CADA VEZ QUE SE LA INVOQUE\n",
        "\n",
        "def saludo():\n",
        "  print(\"¡Hola amiga!\")\n",
        "\n",
        "saludo()\n",
        "\n"
      ],
      "metadata": {
        "colab": {
          "base_uri": "https://localhost:8080/"
        },
        "id": "Ew5mXlC5--Id",
        "outputId": "6556df1b-5810-494f-a00c-9ac3802147d0"
      },
      "execution_count": null,
      "outputs": [
        {
          "output_type": "stream",
          "name": "stdout",
          "text": [
            "¡Hola amiga!\n"
          ]
        }
      ]
    },
    {
      "cell_type": "code",
      "source": [
        "#EJERCICIO 2: Escribir una funcion a la que se le pase una cadena <nombre> y muestre por panntala el saludo Hola <nombre>!.\n",
        "\n",
        "def saludo(nombre):\n",
        "  print(\"Hola\", nombre, \"!\")\n",
        "\n",
        "saludo(\"Yas\")"
      ],
      "metadata": {
        "colab": {
          "base_uri": "https://localhost:8080/"
        },
        "id": "ZIKr-l-MB2G3",
        "outputId": "48b266e2-e686-4e46-c7c1-4ad62584f0f8"
      },
      "execution_count": null,
      "outputs": [
        {
          "output_type": "stream",
          "name": "stdout",
          "text": [
            "Hola Yas !\n"
          ]
        }
      ]
    },
    {
      "cell_type": "code",
      "source": [
        "# EJERCICIO 3: Escribir una funcion que reciba un numero entero positivo y devuelva su factorial.\n",
        "def factorial(numero):\n",
        "  resultado=1\n",
        "  for i in range( 1,numero+1 ):\n",
        "    resultado*=i\n",
        "  return resultado\n",
        "\n",
        "print(factorial(3))"
      ],
      "metadata": {
        "colab": {
          "base_uri": "https://localhost:8080/"
        },
        "id": "loWd3PD7CyJl",
        "outputId": "3221f2dc-6779-4de1-b66f-2b28a6dec54f"
      },
      "execution_count": null,
      "outputs": [
        {
          "output_type": "stream",
          "name": "stdout",
          "text": [
            "6\n"
          ]
        }
      ]
    },
    {
      "cell_type": "code",
      "source": [
        "# EJERCICIO 4: Escribir una funcion que calcule el total de una factura tras aplicarle el IVA. La funcion debe recibir la cantidad sin IVA y el porcentaje\n",
        "# de IVA a aplicar, y devolver el total de la factura. Si se invoca la funcion sin pasarle el porcentaje de IVA, debera aplicar un 21%.\n",
        "\n",
        "\n",
        "def monto_final(cantidad , iva=21):\n",
        "  cantidad_final = cantidad + cantidad *(iva/100)\n",
        "  print(cantidad_final)\n",
        "\n",
        "cantidad = int(input(\"escriba el monto sin IVA : \"))\n",
        "iva = int (input (\"porcentaje de iva a aplicar: \"))\n",
        "(monto_final(cantidad,iva))\n",
        "\n",
        "\n"
      ],
      "metadata": {
        "id": "QYRcuGe8DdsW",
        "colab": {
          "base_uri": "https://localhost:8080/"
        },
        "outputId": "99adca62-669d-4170-95e2-c721db9d505d"
      },
      "execution_count": null,
      "outputs": [
        {
          "output_type": "stream",
          "name": "stdout",
          "text": [
            "escriba el monto sin IVA : 100\n",
            "porcentaje de iva a aplicar: 21\n",
            "121.0\n"
          ]
        }
      ]
    },
    {
      "cell_type": "code",
      "source": [
        "\n",
        "def monto_final(cantidad , iva=21):\n",
        "  cantidad_final = cantidad + cantidad *(iva/100)\n",
        "  return cantidad_final\n",
        "\n",
        "cantidad = int(input(\"escriba el monto sin IVA : \"))\n",
        "iva = int (input (\"porcentaje de iva a aplicar: \"))\n",
        "if iva == \"\"  :\n",
        "  resultado = monto_final(cantidad)\n",
        "else:\n",
        "  resultado = monto_final(cantidad , iva)\n",
        "\n",
        "print(monto_final(cantidad , iva))"
      ],
      "metadata": {
        "colab": {
          "base_uri": "https://localhost:8080/"
        },
        "id": "yMr6wQi2MqcJ",
        "outputId": "97176ec5-93cc-4064-e5c7-1895d741bc76"
      },
      "execution_count": null,
      "outputs": [
        {
          "output_type": "stream",
          "name": "stdout",
          "text": [
            "escriba el monto sin IVA : 350\n",
            "porcentaje de iva a aplicar: 10\n",
            "385.0\n"
          ]
        }
      ]
    },
    {
      "cell_type": "code",
      "source": [
        "#EJERCICIO 5\n",
        "#Escribir una función que calcule el área de un círculo y otra que calcule el volumen de un cilindro usando la primera función.\n",
        "import math\n",
        "def area_circulo(radio):\n",
        "  area= math.pi * (radio*radio)\n",
        "  return area\n",
        "\n",
        "def volumen_cilindro (radio , altura):\n",
        "  area = area_circulo(radio)\n",
        "  volumen = area * altura\n",
        "  return volumen\n",
        "\n",
        "\n",
        "radio=int(input(\"ingrese el radio : \"))\n",
        "\n",
        "altura = int(input(\"ingrese la altura en metros : \"))\n",
        "\n",
        "print(f\"la area del circulo es : {area_circulo(radio)} y el volumen es {volumen_cilindro(radio,altura)} \")\n"
      ],
      "metadata": {
        "colab": {
          "base_uri": "https://localhost:8080/"
        },
        "id": "A4i6jw0oZDLK",
        "outputId": "f5126607-96d2-4a06-b896-2e97c69cf2a8"
      },
      "execution_count": null,
      "outputs": [
        {
          "output_type": "stream",
          "name": "stdout",
          "text": [
            "ingrese el radio : 1\n",
            "ingrese la altura en metros : 2\n",
            "la area del circulo es : 3.141592653589793 y el volumen es 6.283185307179586 \n"
          ]
        }
      ]
    },
    {
      "cell_type": "code",
      "source": [
        "lista= []\n",
        "opcion=0\n",
        "print(\"1-Ingresar numero \\n0-Salir\")\n",
        "opcion=int(input(\"ingrese una opcion: \"))\n",
        "while opcion!=0 :\n",
        "  if opcion == 1:\n",
        "    numeros_ganadores=int(input(\"ingrese los numeros ganadores de loteria: \"))\n",
        "    lista.append(numeros_ganadores)\n",
        "    #print(lista)\n",
        "    lista.sort()\n",
        "    print(lista)\n",
        "    print(\"\\n\")\n",
        "    print(\"1-Ingresar numero \\n2-Salir\")\n",
        "    opcion=int(input(\"ingrese una opcion: \"))\n",
        "  elif opcion !=1 :\n",
        "    print (f\"la lista ordenada de menor a mayor quedaria asi : {lista}\")\n",
        "    break"
      ],
      "metadata": {
        "id": "AnzxDjiJT5BL"
      },
      "execution_count": null,
      "outputs": []
    },
    {
      "cell_type": "code",
      "source": [
        "#EJERCICIO 6\n",
        "#Escribir una función que reciba una muestra de números en una lista y devuelva su promedio.\n",
        "\n",
        "lista=[]\n",
        "\n",
        "def promedio (lista):\n",
        "  promiedo=sum(lista)/len(lista)\n",
        "  return promiedo\n",
        "\n",
        "opcion=0\n",
        "print(\"1-Ingrese un numero \\n 2-Salir\")\n",
        "opcion=int(input(\" Ingrese una opcion \"))\n",
        "while opcion!=0:\n",
        "  if opcion == 1:\n",
        "    numero=int(input(\"ingrese un numero: \"))\n",
        "    lista.append(numero)\n",
        "    print(lista)\n",
        "    print(\"1-Ingrese un numero \\n 0-Salir\")\n",
        "    opcion=int(input(\"ingrese una opcion: \"))\n",
        "\n",
        "promedio(lista)\n",
        "\n",
        "\n",
        "\n",
        "\n"
      ],
      "metadata": {
        "id": "HN6vqE08ZDJQ",
        "colab": {
          "base_uri": "https://localhost:8080/"
        },
        "outputId": "ca50d222-19db-4a66-e9b8-1b770b152893"
      },
      "execution_count": null,
      "outputs": [
        {
          "name": "stdout",
          "output_type": "stream",
          "text": [
            "1-Ingrese un numero \n",
            " 2-Salir\n",
            " Ingrese una opcion 1\n",
            "ingrese un numero: 40\n",
            "[40]\n",
            "1-Ingrese un numero \n",
            " 0-Salir\n",
            "ingrese una opcion: 1\n",
            "ingrese un numero: 50\n",
            "[40, 50]\n",
            "1-Ingrese un numero \n",
            " 0-Salir\n",
            "ingrese una opcion: 0\n"
          ]
        },
        {
          "output_type": "execute_result",
          "data": {
            "text/plain": [
              "45.0"
            ]
          },
          "metadata": {},
          "execution_count": 25
        }
      ]
    },
    {
      "cell_type": "markdown",
      "source": [
        "MANEJO DE DATOS"
      ],
      "metadata": {
        "id": "cUDTPITICWkB"
      }
    },
    {
      "cell_type": "markdown",
      "source": [
        "# MANEJO DE DATOS PANDAS"
      ],
      "metadata": {
        "id": "AnIXxuaUSFUK"
      }
    },
    {
      "cell_type": "code",
      "source": [
        "#Ejercicio 1\n",
        "#Cargar un archivo CSV y mostrar sus primeras 10 filas.\n",
        "\n",
        "\n",
        "from google.colab import drive\n",
        "import pandas as pd\n",
        "\n",
        "drive.mount('/content/drive')\n",
        "\n",
        "\n",
        "# Cambiá la ruta por donde esté tu CSV\n",
        "df = pd.read_csv('/content/drive/My Drive/Colab Notebooks/carpeta/datos.csv')\n",
        "\n",
        "#Desarrollo\n",
        "df.head(10)\n",
        "\n"
      ],
      "metadata": {
        "colab": {
          "base_uri": "https://localhost:8080/",
          "height": 400
        },
        "id": "B5zGyNeQ_6ob",
        "outputId": "167970d7-91c7-4c20-969f-7fe21a26731d"
      },
      "execution_count": null,
      "outputs": [
        {
          "output_type": "stream",
          "name": "stdout",
          "text": [
            "Drive already mounted at /content/drive; to attempt to forcibly remount, call drive.mount(\"/content/drive\", force_remount=True).\n"
          ]
        },
        {
          "output_type": "execute_result",
          "data": {
            "text/plain": [
              "                Nombre  Edad       País\n",
              "0         Lionel Messi    36  Argentina\n",
              "1    Cristiano Ronaldo    38   Portugal\n",
              "2       Enzo Fernández    23  Argentina\n",
              "3       Julián Álvarez    24  Argentina\n",
              "4  Alexis Mac Allister    25  Argentina\n",
              "5          Cuti Romero    26  Argentina\n",
              "6          Luka Modric    38    Croacia\n",
              "7      Kevin De Bruyne    32    Bélgica\n",
              "8       Erling Haaland    24    Noruega\n",
              "9        Kylian Mbappé    26    Francia"
            ],
            "text/html": [
              "\n",
              "  <div id=\"df-8b0c2085-8c5e-4a5e-ab05-adb30b1de353\" class=\"colab-df-container\">\n",
              "    <div>\n",
              "<style scoped>\n",
              "    .dataframe tbody tr th:only-of-type {\n",
              "        vertical-align: middle;\n",
              "    }\n",
              "\n",
              "    .dataframe tbody tr th {\n",
              "        vertical-align: top;\n",
              "    }\n",
              "\n",
              "    .dataframe thead th {\n",
              "        text-align: right;\n",
              "    }\n",
              "</style>\n",
              "<table border=\"1\" class=\"dataframe\">\n",
              "  <thead>\n",
              "    <tr style=\"text-align: right;\">\n",
              "      <th></th>\n",
              "      <th>Nombre</th>\n",
              "      <th>Edad</th>\n",
              "      <th>País</th>\n",
              "    </tr>\n",
              "  </thead>\n",
              "  <tbody>\n",
              "    <tr>\n",
              "      <th>0</th>\n",
              "      <td>Lionel Messi</td>\n",
              "      <td>36</td>\n",
              "      <td>Argentina</td>\n",
              "    </tr>\n",
              "    <tr>\n",
              "      <th>1</th>\n",
              "      <td>Cristiano Ronaldo</td>\n",
              "      <td>38</td>\n",
              "      <td>Portugal</td>\n",
              "    </tr>\n",
              "    <tr>\n",
              "      <th>2</th>\n",
              "      <td>Enzo Fernández</td>\n",
              "      <td>23</td>\n",
              "      <td>Argentina</td>\n",
              "    </tr>\n",
              "    <tr>\n",
              "      <th>3</th>\n",
              "      <td>Julián Álvarez</td>\n",
              "      <td>24</td>\n",
              "      <td>Argentina</td>\n",
              "    </tr>\n",
              "    <tr>\n",
              "      <th>4</th>\n",
              "      <td>Alexis Mac Allister</td>\n",
              "      <td>25</td>\n",
              "      <td>Argentina</td>\n",
              "    </tr>\n",
              "    <tr>\n",
              "      <th>5</th>\n",
              "      <td>Cuti Romero</td>\n",
              "      <td>26</td>\n",
              "      <td>Argentina</td>\n",
              "    </tr>\n",
              "    <tr>\n",
              "      <th>6</th>\n",
              "      <td>Luka Modric</td>\n",
              "      <td>38</td>\n",
              "      <td>Croacia</td>\n",
              "    </tr>\n",
              "    <tr>\n",
              "      <th>7</th>\n",
              "      <td>Kevin De Bruyne</td>\n",
              "      <td>32</td>\n",
              "      <td>Bélgica</td>\n",
              "    </tr>\n",
              "    <tr>\n",
              "      <th>8</th>\n",
              "      <td>Erling Haaland</td>\n",
              "      <td>24</td>\n",
              "      <td>Noruega</td>\n",
              "    </tr>\n",
              "    <tr>\n",
              "      <th>9</th>\n",
              "      <td>Kylian Mbappé</td>\n",
              "      <td>26</td>\n",
              "      <td>Francia</td>\n",
              "    </tr>\n",
              "  </tbody>\n",
              "</table>\n",
              "</div>\n",
              "    <div class=\"colab-df-buttons\">\n",
              "\n",
              "  <div class=\"colab-df-container\">\n",
              "    <button class=\"colab-df-convert\" onclick=\"convertToInteractive('df-8b0c2085-8c5e-4a5e-ab05-adb30b1de353')\"\n",
              "            title=\"Convert this dataframe to an interactive table.\"\n",
              "            style=\"display:none;\">\n",
              "\n",
              "  <svg xmlns=\"http://www.w3.org/2000/svg\" height=\"24px\" viewBox=\"0 -960 960 960\">\n",
              "    <path d=\"M120-120v-720h720v720H120Zm60-500h600v-160H180v160Zm220 220h160v-160H400v160Zm0 220h160v-160H400v160ZM180-400h160v-160H180v160Zm440 0h160v-160H620v160ZM180-180h160v-160H180v160Zm440 0h160v-160H620v160Z\"/>\n",
              "  </svg>\n",
              "    </button>\n",
              "\n",
              "  <style>\n",
              "    .colab-df-container {\n",
              "      display:flex;\n",
              "      gap: 12px;\n",
              "    }\n",
              "\n",
              "    .colab-df-convert {\n",
              "      background-color: #E8F0FE;\n",
              "      border: none;\n",
              "      border-radius: 50%;\n",
              "      cursor: pointer;\n",
              "      display: none;\n",
              "      fill: #1967D2;\n",
              "      height: 32px;\n",
              "      padding: 0 0 0 0;\n",
              "      width: 32px;\n",
              "    }\n",
              "\n",
              "    .colab-df-convert:hover {\n",
              "      background-color: #E2EBFA;\n",
              "      box-shadow: 0px 1px 2px rgba(60, 64, 67, 0.3), 0px 1px 3px 1px rgba(60, 64, 67, 0.15);\n",
              "      fill: #174EA6;\n",
              "    }\n",
              "\n",
              "    .colab-df-buttons div {\n",
              "      margin-bottom: 4px;\n",
              "    }\n",
              "\n",
              "    [theme=dark] .colab-df-convert {\n",
              "      background-color: #3B4455;\n",
              "      fill: #D2E3FC;\n",
              "    }\n",
              "\n",
              "    [theme=dark] .colab-df-convert:hover {\n",
              "      background-color: #434B5C;\n",
              "      box-shadow: 0px 1px 3px 1px rgba(0, 0, 0, 0.15);\n",
              "      filter: drop-shadow(0px 1px 2px rgba(0, 0, 0, 0.3));\n",
              "      fill: #FFFFFF;\n",
              "    }\n",
              "  </style>\n",
              "\n",
              "    <script>\n",
              "      const buttonEl =\n",
              "        document.querySelector('#df-8b0c2085-8c5e-4a5e-ab05-adb30b1de353 button.colab-df-convert');\n",
              "      buttonEl.style.display =\n",
              "        google.colab.kernel.accessAllowed ? 'block' : 'none';\n",
              "\n",
              "      async function convertToInteractive(key) {\n",
              "        const element = document.querySelector('#df-8b0c2085-8c5e-4a5e-ab05-adb30b1de353');\n",
              "        const dataTable =\n",
              "          await google.colab.kernel.invokeFunction('convertToInteractive',\n",
              "                                                    [key], {});\n",
              "        if (!dataTable) return;\n",
              "\n",
              "        const docLinkHtml = 'Like what you see? Visit the ' +\n",
              "          '<a target=\"_blank\" href=https://colab.research.google.com/notebooks/data_table.ipynb>data table notebook</a>'\n",
              "          + ' to learn more about interactive tables.';\n",
              "        element.innerHTML = '';\n",
              "        dataTable['output_type'] = 'display_data';\n",
              "        await google.colab.output.renderOutput(dataTable, element);\n",
              "        const docLink = document.createElement('div');\n",
              "        docLink.innerHTML = docLinkHtml;\n",
              "        element.appendChild(docLink);\n",
              "      }\n",
              "    </script>\n",
              "  </div>\n",
              "\n",
              "\n",
              "    <div id=\"df-1fd3c3eb-e4d4-4517-8b4f-c33d53af035e\">\n",
              "      <button class=\"colab-df-quickchart\" onclick=\"quickchart('df-1fd3c3eb-e4d4-4517-8b4f-c33d53af035e')\"\n",
              "                title=\"Suggest charts\"\n",
              "                style=\"display:none;\">\n",
              "\n",
              "<svg xmlns=\"http://www.w3.org/2000/svg\" height=\"24px\"viewBox=\"0 0 24 24\"\n",
              "     width=\"24px\">\n",
              "    <g>\n",
              "        <path d=\"M19 3H5c-1.1 0-2 .9-2 2v14c0 1.1.9 2 2 2h14c1.1 0 2-.9 2-2V5c0-1.1-.9-2-2-2zM9 17H7v-7h2v7zm4 0h-2V7h2v10zm4 0h-2v-4h2v4z\"/>\n",
              "    </g>\n",
              "</svg>\n",
              "      </button>\n",
              "\n",
              "<style>\n",
              "  .colab-df-quickchart {\n",
              "      --bg-color: #E8F0FE;\n",
              "      --fill-color: #1967D2;\n",
              "      --hover-bg-color: #E2EBFA;\n",
              "      --hover-fill-color: #174EA6;\n",
              "      --disabled-fill-color: #AAA;\n",
              "      --disabled-bg-color: #DDD;\n",
              "  }\n",
              "\n",
              "  [theme=dark] .colab-df-quickchart {\n",
              "      --bg-color: #3B4455;\n",
              "      --fill-color: #D2E3FC;\n",
              "      --hover-bg-color: #434B5C;\n",
              "      --hover-fill-color: #FFFFFF;\n",
              "      --disabled-bg-color: #3B4455;\n",
              "      --disabled-fill-color: #666;\n",
              "  }\n",
              "\n",
              "  .colab-df-quickchart {\n",
              "    background-color: var(--bg-color);\n",
              "    border: none;\n",
              "    border-radius: 50%;\n",
              "    cursor: pointer;\n",
              "    display: none;\n",
              "    fill: var(--fill-color);\n",
              "    height: 32px;\n",
              "    padding: 0;\n",
              "    width: 32px;\n",
              "  }\n",
              "\n",
              "  .colab-df-quickchart:hover {\n",
              "    background-color: var(--hover-bg-color);\n",
              "    box-shadow: 0 1px 2px rgba(60, 64, 67, 0.3), 0 1px 3px 1px rgba(60, 64, 67, 0.15);\n",
              "    fill: var(--button-hover-fill-color);\n",
              "  }\n",
              "\n",
              "  .colab-df-quickchart-complete:disabled,\n",
              "  .colab-df-quickchart-complete:disabled:hover {\n",
              "    background-color: var(--disabled-bg-color);\n",
              "    fill: var(--disabled-fill-color);\n",
              "    box-shadow: none;\n",
              "  }\n",
              "\n",
              "  .colab-df-spinner {\n",
              "    border: 2px solid var(--fill-color);\n",
              "    border-color: transparent;\n",
              "    border-bottom-color: var(--fill-color);\n",
              "    animation:\n",
              "      spin 1s steps(1) infinite;\n",
              "  }\n",
              "\n",
              "  @keyframes spin {\n",
              "    0% {\n",
              "      border-color: transparent;\n",
              "      border-bottom-color: var(--fill-color);\n",
              "      border-left-color: var(--fill-color);\n",
              "    }\n",
              "    20% {\n",
              "      border-color: transparent;\n",
              "      border-left-color: var(--fill-color);\n",
              "      border-top-color: var(--fill-color);\n",
              "    }\n",
              "    30% {\n",
              "      border-color: transparent;\n",
              "      border-left-color: var(--fill-color);\n",
              "      border-top-color: var(--fill-color);\n",
              "      border-right-color: var(--fill-color);\n",
              "    }\n",
              "    40% {\n",
              "      border-color: transparent;\n",
              "      border-right-color: var(--fill-color);\n",
              "      border-top-color: var(--fill-color);\n",
              "    }\n",
              "    60% {\n",
              "      border-color: transparent;\n",
              "      border-right-color: var(--fill-color);\n",
              "    }\n",
              "    80% {\n",
              "      border-color: transparent;\n",
              "      border-right-color: var(--fill-color);\n",
              "      border-bottom-color: var(--fill-color);\n",
              "    }\n",
              "    90% {\n",
              "      border-color: transparent;\n",
              "      border-bottom-color: var(--fill-color);\n",
              "    }\n",
              "  }\n",
              "</style>\n",
              "\n",
              "      <script>\n",
              "        async function quickchart(key) {\n",
              "          const quickchartButtonEl =\n",
              "            document.querySelector('#' + key + ' button');\n",
              "          quickchartButtonEl.disabled = true;  // To prevent multiple clicks.\n",
              "          quickchartButtonEl.classList.add('colab-df-spinner');\n",
              "          try {\n",
              "            const charts = await google.colab.kernel.invokeFunction(\n",
              "                'suggestCharts', [key], {});\n",
              "          } catch (error) {\n",
              "            console.error('Error during call to suggestCharts:', error);\n",
              "          }\n",
              "          quickchartButtonEl.classList.remove('colab-df-spinner');\n",
              "          quickchartButtonEl.classList.add('colab-df-quickchart-complete');\n",
              "        }\n",
              "        (() => {\n",
              "          let quickchartButtonEl =\n",
              "            document.querySelector('#df-1fd3c3eb-e4d4-4517-8b4f-c33d53af035e button');\n",
              "          quickchartButtonEl.style.display =\n",
              "            google.colab.kernel.accessAllowed ? 'block' : 'none';\n",
              "        })();\n",
              "      </script>\n",
              "    </div>\n",
              "\n",
              "    </div>\n",
              "  </div>\n"
            ],
            "application/vnd.google.colaboratory.intrinsic+json": {
              "type": "dataframe",
              "variable_name": "df",
              "summary": "{\n  \"name\": \"df\",\n  \"rows\": 11,\n  \"fields\": [\n    {\n      \"column\": \"Nombre\",\n      \"properties\": {\n        \"dtype\": \"string\",\n        \"num_unique_values\": 11,\n        \"samples\": [\n          \"Cuti Romero\",\n          \"Lionel Messi\",\n          \"Kylian Mbapp\\u00e9\"\n        ],\n        \"semantic_type\": \"\",\n        \"description\": \"\"\n      }\n    },\n    {\n      \"column\": \"Edad\",\n      \"properties\": {\n        \"dtype\": \"number\",\n        \"std\": 5,\n        \"min\": 23,\n        \"max\": 38,\n        \"num_unique_values\": 8,\n        \"samples\": [\n          38,\n          26,\n          36\n        ],\n        \"semantic_type\": \"\",\n        \"description\": \"\"\n      }\n    },\n    {\n      \"column\": \"Pa\\u00eds\",\n      \"properties\": {\n        \"dtype\": \"string\",\n        \"num_unique_values\": 6,\n        \"samples\": [\n          \"Argentina\",\n          \"Portugal\",\n          \"Francia\"\n        ],\n        \"semantic_type\": \"\",\n        \"description\": \"\"\n      }\n    }\n  ]\n}"
            }
          },
          "metadata": {},
          "execution_count": 11
        }
      ]
    },
    {
      "cell_type": "code",
      "source": [
        "#FORMA LOCAL\n",
        "from google.colab import files\n",
        "import pandas as pd\n",
        "\n",
        "# Subir CSV desde tu computadora\n",
        "uploaded = files.upload()  # Esto abre un explorador para elegir el archivo\n",
        "# Tomar el primer archivo subido\n",
        "archivo = list(uploaded.keys())[0]\n",
        "\n",
        "# Leer CSV\n",
        "df = pd.read_csv(archivo)\n",
        "\n",
        "# Mostrar primeras 10 filas\n",
        "df.head(10)\n"
      ],
      "metadata": {
        "colab": {
          "base_uri": "https://localhost:8080/",
          "height": 420
        },
        "id": "8PHfBJa6Nbx5",
        "outputId": "af6cccfd-3e60-4fb8-a4b7-5c7290f570c6"
      },
      "execution_count": null,
      "outputs": [
        {
          "output_type": "display_data",
          "data": {
            "text/plain": [
              "<IPython.core.display.HTML object>"
            ],
            "text/html": [
              "\n",
              "     <input type=\"file\" id=\"files-9675eb90-ae5c-447d-bc1a-09f826631fe0\" name=\"files[]\" multiple disabled\n",
              "        style=\"border:none\" />\n",
              "     <output id=\"result-9675eb90-ae5c-447d-bc1a-09f826631fe0\">\n",
              "      Upload widget is only available when the cell has been executed in the\n",
              "      current browser session. Please rerun this cell to enable.\n",
              "      </output>\n",
              "      <script>// Copyright 2017 Google LLC\n",
              "//\n",
              "// Licensed under the Apache License, Version 2.0 (the \"License\");\n",
              "// you may not use this file except in compliance with the License.\n",
              "// You may obtain a copy of the License at\n",
              "//\n",
              "//      http://www.apache.org/licenses/LICENSE-2.0\n",
              "//\n",
              "// Unless required by applicable law or agreed to in writing, software\n",
              "// distributed under the License is distributed on an \"AS IS\" BASIS,\n",
              "// WITHOUT WARRANTIES OR CONDITIONS OF ANY KIND, either express or implied.\n",
              "// See the License for the specific language governing permissions and\n",
              "// limitations under the License.\n",
              "\n",
              "/**\n",
              " * @fileoverview Helpers for google.colab Python module.\n",
              " */\n",
              "(function(scope) {\n",
              "function span(text, styleAttributes = {}) {\n",
              "  const element = document.createElement('span');\n",
              "  element.textContent = text;\n",
              "  for (const key of Object.keys(styleAttributes)) {\n",
              "    element.style[key] = styleAttributes[key];\n",
              "  }\n",
              "  return element;\n",
              "}\n",
              "\n",
              "// Max number of bytes which will be uploaded at a time.\n",
              "const MAX_PAYLOAD_SIZE = 100 * 1024;\n",
              "\n",
              "function _uploadFiles(inputId, outputId) {\n",
              "  const steps = uploadFilesStep(inputId, outputId);\n",
              "  const outputElement = document.getElementById(outputId);\n",
              "  // Cache steps on the outputElement to make it available for the next call\n",
              "  // to uploadFilesContinue from Python.\n",
              "  outputElement.steps = steps;\n",
              "\n",
              "  return _uploadFilesContinue(outputId);\n",
              "}\n",
              "\n",
              "// This is roughly an async generator (not supported in the browser yet),\n",
              "// where there are multiple asynchronous steps and the Python side is going\n",
              "// to poll for completion of each step.\n",
              "// This uses a Promise to block the python side on completion of each step,\n",
              "// then passes the result of the previous step as the input to the next step.\n",
              "function _uploadFilesContinue(outputId) {\n",
              "  const outputElement = document.getElementById(outputId);\n",
              "  const steps = outputElement.steps;\n",
              "\n",
              "  const next = steps.next(outputElement.lastPromiseValue);\n",
              "  return Promise.resolve(next.value.promise).then((value) => {\n",
              "    // Cache the last promise value to make it available to the next\n",
              "    // step of the generator.\n",
              "    outputElement.lastPromiseValue = value;\n",
              "    return next.value.response;\n",
              "  });\n",
              "}\n",
              "\n",
              "/**\n",
              " * Generator function which is called between each async step of the upload\n",
              " * process.\n",
              " * @param {string} inputId Element ID of the input file picker element.\n",
              " * @param {string} outputId Element ID of the output display.\n",
              " * @return {!Iterable<!Object>} Iterable of next steps.\n",
              " */\n",
              "function* uploadFilesStep(inputId, outputId) {\n",
              "  const inputElement = document.getElementById(inputId);\n",
              "  inputElement.disabled = false;\n",
              "\n",
              "  const outputElement = document.getElementById(outputId);\n",
              "  outputElement.innerHTML = '';\n",
              "\n",
              "  const pickedPromise = new Promise((resolve) => {\n",
              "    inputElement.addEventListener('change', (e) => {\n",
              "      resolve(e.target.files);\n",
              "    });\n",
              "  });\n",
              "\n",
              "  const cancel = document.createElement('button');\n",
              "  inputElement.parentElement.appendChild(cancel);\n",
              "  cancel.textContent = 'Cancel upload';\n",
              "  const cancelPromise = new Promise((resolve) => {\n",
              "    cancel.onclick = () => {\n",
              "      resolve(null);\n",
              "    };\n",
              "  });\n",
              "\n",
              "  // Wait for the user to pick the files.\n",
              "  const files = yield {\n",
              "    promise: Promise.race([pickedPromise, cancelPromise]),\n",
              "    response: {\n",
              "      action: 'starting',\n",
              "    }\n",
              "  };\n",
              "\n",
              "  cancel.remove();\n",
              "\n",
              "  // Disable the input element since further picks are not allowed.\n",
              "  inputElement.disabled = true;\n",
              "\n",
              "  if (!files) {\n",
              "    return {\n",
              "      response: {\n",
              "        action: 'complete',\n",
              "      }\n",
              "    };\n",
              "  }\n",
              "\n",
              "  for (const file of files) {\n",
              "    const li = document.createElement('li');\n",
              "    li.append(span(file.name, {fontWeight: 'bold'}));\n",
              "    li.append(span(\n",
              "        `(${file.type || 'n/a'}) - ${file.size} bytes, ` +\n",
              "        `last modified: ${\n",
              "            file.lastModifiedDate ? file.lastModifiedDate.toLocaleDateString() :\n",
              "                                    'n/a'} - `));\n",
              "    const percent = span('0% done');\n",
              "    li.appendChild(percent);\n",
              "\n",
              "    outputElement.appendChild(li);\n",
              "\n",
              "    const fileDataPromise = new Promise((resolve) => {\n",
              "      const reader = new FileReader();\n",
              "      reader.onload = (e) => {\n",
              "        resolve(e.target.result);\n",
              "      };\n",
              "      reader.readAsArrayBuffer(file);\n",
              "    });\n",
              "    // Wait for the data to be ready.\n",
              "    let fileData = yield {\n",
              "      promise: fileDataPromise,\n",
              "      response: {\n",
              "        action: 'continue',\n",
              "      }\n",
              "    };\n",
              "\n",
              "    // Use a chunked sending to avoid message size limits. See b/62115660.\n",
              "    let position = 0;\n",
              "    do {\n",
              "      const length = Math.min(fileData.byteLength - position, MAX_PAYLOAD_SIZE);\n",
              "      const chunk = new Uint8Array(fileData, position, length);\n",
              "      position += length;\n",
              "\n",
              "      const base64 = btoa(String.fromCharCode.apply(null, chunk));\n",
              "      yield {\n",
              "        response: {\n",
              "          action: 'append',\n",
              "          file: file.name,\n",
              "          data: base64,\n",
              "        },\n",
              "      };\n",
              "\n",
              "      let percentDone = fileData.byteLength === 0 ?\n",
              "          100 :\n",
              "          Math.round((position / fileData.byteLength) * 100);\n",
              "      percent.textContent = `${percentDone}% done`;\n",
              "\n",
              "    } while (position < fileData.byteLength);\n",
              "  }\n",
              "\n",
              "  // All done.\n",
              "  yield {\n",
              "    response: {\n",
              "      action: 'complete',\n",
              "    }\n",
              "  };\n",
              "}\n",
              "\n",
              "scope.google = scope.google || {};\n",
              "scope.google.colab = scope.google.colab || {};\n",
              "scope.google.colab._files = {\n",
              "  _uploadFiles,\n",
              "  _uploadFilesContinue,\n",
              "};\n",
              "})(self);\n",
              "</script> "
            ]
          },
          "metadata": {}
        },
        {
          "output_type": "stream",
          "name": "stdout",
          "text": [
            "Saving datos.csv to datos.csv\n"
          ]
        },
        {
          "output_type": "execute_result",
          "data": {
            "text/plain": [
              "                nombre  edad       pais\n",
              "0         Lionel Messi    37  Argentina\n",
              "1    Cristiano Ronaldo    40   Portugal\n",
              "2       Enzo Fernandez    23  Argentina\n",
              "3       Julian Alvarez    25  Argentina\n",
              "4  Alexis Mac Allister    26  Argentina\n",
              "5      Cristian Romero    27  Argentina\n",
              "6          Luka Modric    39    Croacia\n",
              "7      Kevin De Bruyne    34    Bélgica\n",
              "8       Erling Haaland    25    Noruega\n",
              "9        Kylian Mbappe    26    Francia"
            ],
            "text/html": [
              "\n",
              "  <div id=\"df-ae89aae3-9f3e-468e-aa00-5d46170cf54c\" class=\"colab-df-container\">\n",
              "    <div>\n",
              "<style scoped>\n",
              "    .dataframe tbody tr th:only-of-type {\n",
              "        vertical-align: middle;\n",
              "    }\n",
              "\n",
              "    .dataframe tbody tr th {\n",
              "        vertical-align: top;\n",
              "    }\n",
              "\n",
              "    .dataframe thead th {\n",
              "        text-align: right;\n",
              "    }\n",
              "</style>\n",
              "<table border=\"1\" class=\"dataframe\">\n",
              "  <thead>\n",
              "    <tr style=\"text-align: right;\">\n",
              "      <th></th>\n",
              "      <th>nombre</th>\n",
              "      <th>edad</th>\n",
              "      <th>pais</th>\n",
              "    </tr>\n",
              "  </thead>\n",
              "  <tbody>\n",
              "    <tr>\n",
              "      <th>0</th>\n",
              "      <td>Lionel Messi</td>\n",
              "      <td>37</td>\n",
              "      <td>Argentina</td>\n",
              "    </tr>\n",
              "    <tr>\n",
              "      <th>1</th>\n",
              "      <td>Cristiano Ronaldo</td>\n",
              "      <td>40</td>\n",
              "      <td>Portugal</td>\n",
              "    </tr>\n",
              "    <tr>\n",
              "      <th>2</th>\n",
              "      <td>Enzo Fernandez</td>\n",
              "      <td>23</td>\n",
              "      <td>Argentina</td>\n",
              "    </tr>\n",
              "    <tr>\n",
              "      <th>3</th>\n",
              "      <td>Julian Alvarez</td>\n",
              "      <td>25</td>\n",
              "      <td>Argentina</td>\n",
              "    </tr>\n",
              "    <tr>\n",
              "      <th>4</th>\n",
              "      <td>Alexis Mac Allister</td>\n",
              "      <td>26</td>\n",
              "      <td>Argentina</td>\n",
              "    </tr>\n",
              "    <tr>\n",
              "      <th>5</th>\n",
              "      <td>Cristian Romero</td>\n",
              "      <td>27</td>\n",
              "      <td>Argentina</td>\n",
              "    </tr>\n",
              "    <tr>\n",
              "      <th>6</th>\n",
              "      <td>Luka Modric</td>\n",
              "      <td>39</td>\n",
              "      <td>Croacia</td>\n",
              "    </tr>\n",
              "    <tr>\n",
              "      <th>7</th>\n",
              "      <td>Kevin De Bruyne</td>\n",
              "      <td>34</td>\n",
              "      <td>Bélgica</td>\n",
              "    </tr>\n",
              "    <tr>\n",
              "      <th>8</th>\n",
              "      <td>Erling Haaland</td>\n",
              "      <td>25</td>\n",
              "      <td>Noruega</td>\n",
              "    </tr>\n",
              "    <tr>\n",
              "      <th>9</th>\n",
              "      <td>Kylian Mbappe</td>\n",
              "      <td>26</td>\n",
              "      <td>Francia</td>\n",
              "    </tr>\n",
              "  </tbody>\n",
              "</table>\n",
              "</div>\n",
              "    <div class=\"colab-df-buttons\">\n",
              "\n",
              "  <div class=\"colab-df-container\">\n",
              "    <button class=\"colab-df-convert\" onclick=\"convertToInteractive('df-ae89aae3-9f3e-468e-aa00-5d46170cf54c')\"\n",
              "            title=\"Convert this dataframe to an interactive table.\"\n",
              "            style=\"display:none;\">\n",
              "\n",
              "  <svg xmlns=\"http://www.w3.org/2000/svg\" height=\"24px\" viewBox=\"0 -960 960 960\">\n",
              "    <path d=\"M120-120v-720h720v720H120Zm60-500h600v-160H180v160Zm220 220h160v-160H400v160Zm0 220h160v-160H400v160ZM180-400h160v-160H180v160Zm440 0h160v-160H620v160ZM180-180h160v-160H180v160Zm440 0h160v-160H620v160Z\"/>\n",
              "  </svg>\n",
              "    </button>\n",
              "\n",
              "  <style>\n",
              "    .colab-df-container {\n",
              "      display:flex;\n",
              "      gap: 12px;\n",
              "    }\n",
              "\n",
              "    .colab-df-convert {\n",
              "      background-color: #E8F0FE;\n",
              "      border: none;\n",
              "      border-radius: 50%;\n",
              "      cursor: pointer;\n",
              "      display: none;\n",
              "      fill: #1967D2;\n",
              "      height: 32px;\n",
              "      padding: 0 0 0 0;\n",
              "      width: 32px;\n",
              "    }\n",
              "\n",
              "    .colab-df-convert:hover {\n",
              "      background-color: #E2EBFA;\n",
              "      box-shadow: 0px 1px 2px rgba(60, 64, 67, 0.3), 0px 1px 3px 1px rgba(60, 64, 67, 0.15);\n",
              "      fill: #174EA6;\n",
              "    }\n",
              "\n",
              "    .colab-df-buttons div {\n",
              "      margin-bottom: 4px;\n",
              "    }\n",
              "\n",
              "    [theme=dark] .colab-df-convert {\n",
              "      background-color: #3B4455;\n",
              "      fill: #D2E3FC;\n",
              "    }\n",
              "\n",
              "    [theme=dark] .colab-df-convert:hover {\n",
              "      background-color: #434B5C;\n",
              "      box-shadow: 0px 1px 3px 1px rgba(0, 0, 0, 0.15);\n",
              "      filter: drop-shadow(0px 1px 2px rgba(0, 0, 0, 0.3));\n",
              "      fill: #FFFFFF;\n",
              "    }\n",
              "  </style>\n",
              "\n",
              "    <script>\n",
              "      const buttonEl =\n",
              "        document.querySelector('#df-ae89aae3-9f3e-468e-aa00-5d46170cf54c button.colab-df-convert');\n",
              "      buttonEl.style.display =\n",
              "        google.colab.kernel.accessAllowed ? 'block' : 'none';\n",
              "\n",
              "      async function convertToInteractive(key) {\n",
              "        const element = document.querySelector('#df-ae89aae3-9f3e-468e-aa00-5d46170cf54c');\n",
              "        const dataTable =\n",
              "          await google.colab.kernel.invokeFunction('convertToInteractive',\n",
              "                                                    [key], {});\n",
              "        if (!dataTable) return;\n",
              "\n",
              "        const docLinkHtml = 'Like what you see? Visit the ' +\n",
              "          '<a target=\"_blank\" href=https://colab.research.google.com/notebooks/data_table.ipynb>data table notebook</a>'\n",
              "          + ' to learn more about interactive tables.';\n",
              "        element.innerHTML = '';\n",
              "        dataTable['output_type'] = 'display_data';\n",
              "        await google.colab.output.renderOutput(dataTable, element);\n",
              "        const docLink = document.createElement('div');\n",
              "        docLink.innerHTML = docLinkHtml;\n",
              "        element.appendChild(docLink);\n",
              "      }\n",
              "    </script>\n",
              "  </div>\n",
              "\n",
              "\n",
              "    <div id=\"df-cd22e527-eb2c-4abe-9438-12eb83895151\">\n",
              "      <button class=\"colab-df-quickchart\" onclick=\"quickchart('df-cd22e527-eb2c-4abe-9438-12eb83895151')\"\n",
              "                title=\"Suggest charts\"\n",
              "                style=\"display:none;\">\n",
              "\n",
              "<svg xmlns=\"http://www.w3.org/2000/svg\" height=\"24px\"viewBox=\"0 0 24 24\"\n",
              "     width=\"24px\">\n",
              "    <g>\n",
              "        <path d=\"M19 3H5c-1.1 0-2 .9-2 2v14c0 1.1.9 2 2 2h14c1.1 0 2-.9 2-2V5c0-1.1-.9-2-2-2zM9 17H7v-7h2v7zm4 0h-2V7h2v10zm4 0h-2v-4h2v4z\"/>\n",
              "    </g>\n",
              "</svg>\n",
              "      </button>\n",
              "\n",
              "<style>\n",
              "  .colab-df-quickchart {\n",
              "      --bg-color: #E8F0FE;\n",
              "      --fill-color: #1967D2;\n",
              "      --hover-bg-color: #E2EBFA;\n",
              "      --hover-fill-color: #174EA6;\n",
              "      --disabled-fill-color: #AAA;\n",
              "      --disabled-bg-color: #DDD;\n",
              "  }\n",
              "\n",
              "  [theme=dark] .colab-df-quickchart {\n",
              "      --bg-color: #3B4455;\n",
              "      --fill-color: #D2E3FC;\n",
              "      --hover-bg-color: #434B5C;\n",
              "      --hover-fill-color: #FFFFFF;\n",
              "      --disabled-bg-color: #3B4455;\n",
              "      --disabled-fill-color: #666;\n",
              "  }\n",
              "\n",
              "  .colab-df-quickchart {\n",
              "    background-color: var(--bg-color);\n",
              "    border: none;\n",
              "    border-radius: 50%;\n",
              "    cursor: pointer;\n",
              "    display: none;\n",
              "    fill: var(--fill-color);\n",
              "    height: 32px;\n",
              "    padding: 0;\n",
              "    width: 32px;\n",
              "  }\n",
              "\n",
              "  .colab-df-quickchart:hover {\n",
              "    background-color: var(--hover-bg-color);\n",
              "    box-shadow: 0 1px 2px rgba(60, 64, 67, 0.3), 0 1px 3px 1px rgba(60, 64, 67, 0.15);\n",
              "    fill: var(--button-hover-fill-color);\n",
              "  }\n",
              "\n",
              "  .colab-df-quickchart-complete:disabled,\n",
              "  .colab-df-quickchart-complete:disabled:hover {\n",
              "    background-color: var(--disabled-bg-color);\n",
              "    fill: var(--disabled-fill-color);\n",
              "    box-shadow: none;\n",
              "  }\n",
              "\n",
              "  .colab-df-spinner {\n",
              "    border: 2px solid var(--fill-color);\n",
              "    border-color: transparent;\n",
              "    border-bottom-color: var(--fill-color);\n",
              "    animation:\n",
              "      spin 1s steps(1) infinite;\n",
              "  }\n",
              "\n",
              "  @keyframes spin {\n",
              "    0% {\n",
              "      border-color: transparent;\n",
              "      border-bottom-color: var(--fill-color);\n",
              "      border-left-color: var(--fill-color);\n",
              "    }\n",
              "    20% {\n",
              "      border-color: transparent;\n",
              "      border-left-color: var(--fill-color);\n",
              "      border-top-color: var(--fill-color);\n",
              "    }\n",
              "    30% {\n",
              "      border-color: transparent;\n",
              "      border-left-color: var(--fill-color);\n",
              "      border-top-color: var(--fill-color);\n",
              "      border-right-color: var(--fill-color);\n",
              "    }\n",
              "    40% {\n",
              "      border-color: transparent;\n",
              "      border-right-color: var(--fill-color);\n",
              "      border-top-color: var(--fill-color);\n",
              "    }\n",
              "    60% {\n",
              "      border-color: transparent;\n",
              "      border-right-color: var(--fill-color);\n",
              "    }\n",
              "    80% {\n",
              "      border-color: transparent;\n",
              "      border-right-color: var(--fill-color);\n",
              "      border-bottom-color: var(--fill-color);\n",
              "    }\n",
              "    90% {\n",
              "      border-color: transparent;\n",
              "      border-bottom-color: var(--fill-color);\n",
              "    }\n",
              "  }\n",
              "</style>\n",
              "\n",
              "      <script>\n",
              "        async function quickchart(key) {\n",
              "          const quickchartButtonEl =\n",
              "            document.querySelector('#' + key + ' button');\n",
              "          quickchartButtonEl.disabled = true;  // To prevent multiple clicks.\n",
              "          quickchartButtonEl.classList.add('colab-df-spinner');\n",
              "          try {\n",
              "            const charts = await google.colab.kernel.invokeFunction(\n",
              "                'suggestCharts', [key], {});\n",
              "          } catch (error) {\n",
              "            console.error('Error during call to suggestCharts:', error);\n",
              "          }\n",
              "          quickchartButtonEl.classList.remove('colab-df-spinner');\n",
              "          quickchartButtonEl.classList.add('colab-df-quickchart-complete');\n",
              "        }\n",
              "        (() => {\n",
              "          let quickchartButtonEl =\n",
              "            document.querySelector('#df-cd22e527-eb2c-4abe-9438-12eb83895151 button');\n",
              "          quickchartButtonEl.style.display =\n",
              "            google.colab.kernel.accessAllowed ? 'block' : 'none';\n",
              "        })();\n",
              "      </script>\n",
              "    </div>\n",
              "\n",
              "    </div>\n",
              "  </div>\n"
            ],
            "application/vnd.google.colaboratory.intrinsic+json": {
              "type": "dataframe",
              "variable_name": "df",
              "summary": "{\n  \"name\": \"df\",\n  \"rows\": 11,\n  \"fields\": [\n    {\n      \"column\": \"nombre\",\n      \"properties\": {\n        \"dtype\": \"string\",\n        \"num_unique_values\": 11,\n        \"samples\": [\n          \"Cristian Romero\",\n          \"Lionel Messi\",\n          \"Kylian Mbappe\"\n        ],\n        \"semantic_type\": \"\",\n        \"description\": \"\"\n      }\n    },\n    {\n      \"column\": \"edad\",\n      \"properties\": {\n        \"dtype\": \"number\",\n        \"std\": 6,\n        \"min\": 23,\n        \"max\": 40,\n        \"num_unique_values\": 9,\n        \"samples\": [\n          34,\n          40,\n          27\n        ],\n        \"semantic_type\": \"\",\n        \"description\": \"\"\n      }\n    },\n    {\n      \"column\": \"pais\",\n      \"properties\": {\n        \"dtype\": \"string\",\n        \"num_unique_values\": 6,\n        \"samples\": [\n          \"Argentina\",\n          \"Portugal\",\n          \"Francia\"\n        ],\n        \"semantic_type\": \"\",\n        \"description\": \"\"\n      }\n    }\n  ]\n}"
            }
          },
          "metadata": {},
          "execution_count": 24
        }
      ]
    },
    {
      "cell_type": "code",
      "source": [
        "\n",
        "\n",
        "#Ejercicio 2\n",
        "#Leer un JSON y acceder al valor de una clave específica.\n",
        "#ACCEDER CON ARCHIVOS DE GOOGLE DRIVE IMPORTADOS DE PC LOCAL\n",
        "from google.colab import files\n",
        "import json\n",
        "\n",
        "\n",
        "with open('/content/drive/MyDrive/Colab Notebooks/carpeta/jugadores.json', 'r', encoding='utf-8') as f:\n",
        "    data = json.load(f)\n",
        "\n",
        "print(data[\"jugadores\"][1][\"edad\"])\n",
        "\n",
        "\n"
      ],
      "metadata": {
        "colab": {
          "base_uri": "https://localhost:8080/"
        },
        "id": "UeWyTp4KHwJs",
        "outputId": "fcac5646-f392-496f-aac7-f8c4968bfac2"
      },
      "execution_count": null,
      "outputs": [
        {
          "output_type": "stream",
          "name": "stdout",
          "text": [
            "40\n"
          ]
        }
      ]
    },
    {
      "cell_type": "code",
      "source": [
        "#EJERCICIO 2 ACCEDER A LOS ARCHIVO LOCALES CON PYTHON\n",
        "from google.colab import files\n",
        "import json\n",
        "# Subir archivo\n",
        "uploaded = files.upload()  # Esto abre el selector de archivos\n",
        "\n",
        "# Obtener el nombre del archivo subido\n",
        "archivo = list(uploaded.keys())[0]\n",
        "\n",
        "# Leerlo directamente desde el diccionario\n",
        "data = json.loads(uploaded[archivo].decode(\"utf-8\"))\n",
        "\n",
        "# Acceder a un valor específico\n",
        "print(data[\"jugadores\"][0][\"nombre\"])  # Debe imprimir 37\n"
      ],
      "metadata": {
        "colab": {
          "base_uri": "https://localhost:8080/",
          "height": 91
        },
        "id": "BX2arPCZNFPS",
        "outputId": "864de10f-229f-4543-b3a2-b1441bc64393"
      },
      "execution_count": null,
      "outputs": [
        {
          "output_type": "display_data",
          "data": {
            "text/plain": [
              "<IPython.core.display.HTML object>"
            ],
            "text/html": [
              "\n",
              "     <input type=\"file\" id=\"files-4342687f-b5b0-4bf2-82ad-8acfac3519b5\" name=\"files[]\" multiple disabled\n",
              "        style=\"border:none\" />\n",
              "     <output id=\"result-4342687f-b5b0-4bf2-82ad-8acfac3519b5\">\n",
              "      Upload widget is only available when the cell has been executed in the\n",
              "      current browser session. Please rerun this cell to enable.\n",
              "      </output>\n",
              "      <script>// Copyright 2017 Google LLC\n",
              "//\n",
              "// Licensed under the Apache License, Version 2.0 (the \"License\");\n",
              "// you may not use this file except in compliance with the License.\n",
              "// You may obtain a copy of the License at\n",
              "//\n",
              "//      http://www.apache.org/licenses/LICENSE-2.0\n",
              "//\n",
              "// Unless required by applicable law or agreed to in writing, software\n",
              "// distributed under the License is distributed on an \"AS IS\" BASIS,\n",
              "// WITHOUT WARRANTIES OR CONDITIONS OF ANY KIND, either express or implied.\n",
              "// See the License for the specific language governing permissions and\n",
              "// limitations under the License.\n",
              "\n",
              "/**\n",
              " * @fileoverview Helpers for google.colab Python module.\n",
              " */\n",
              "(function(scope) {\n",
              "function span(text, styleAttributes = {}) {\n",
              "  const element = document.createElement('span');\n",
              "  element.textContent = text;\n",
              "  for (const key of Object.keys(styleAttributes)) {\n",
              "    element.style[key] = styleAttributes[key];\n",
              "  }\n",
              "  return element;\n",
              "}\n",
              "\n",
              "// Max number of bytes which will be uploaded at a time.\n",
              "const MAX_PAYLOAD_SIZE = 100 * 1024;\n",
              "\n",
              "function _uploadFiles(inputId, outputId) {\n",
              "  const steps = uploadFilesStep(inputId, outputId);\n",
              "  const outputElement = document.getElementById(outputId);\n",
              "  // Cache steps on the outputElement to make it available for the next call\n",
              "  // to uploadFilesContinue from Python.\n",
              "  outputElement.steps = steps;\n",
              "\n",
              "  return _uploadFilesContinue(outputId);\n",
              "}\n",
              "\n",
              "// This is roughly an async generator (not supported in the browser yet),\n",
              "// where there are multiple asynchronous steps and the Python side is going\n",
              "// to poll for completion of each step.\n",
              "// This uses a Promise to block the python side on completion of each step,\n",
              "// then passes the result of the previous step as the input to the next step.\n",
              "function _uploadFilesContinue(outputId) {\n",
              "  const outputElement = document.getElementById(outputId);\n",
              "  const steps = outputElement.steps;\n",
              "\n",
              "  const next = steps.next(outputElement.lastPromiseValue);\n",
              "  return Promise.resolve(next.value.promise).then((value) => {\n",
              "    // Cache the last promise value to make it available to the next\n",
              "    // step of the generator.\n",
              "    outputElement.lastPromiseValue = value;\n",
              "    return next.value.response;\n",
              "  });\n",
              "}\n",
              "\n",
              "/**\n",
              " * Generator function which is called between each async step of the upload\n",
              " * process.\n",
              " * @param {string} inputId Element ID of the input file picker element.\n",
              " * @param {string} outputId Element ID of the output display.\n",
              " * @return {!Iterable<!Object>} Iterable of next steps.\n",
              " */\n",
              "function* uploadFilesStep(inputId, outputId) {\n",
              "  const inputElement = document.getElementById(inputId);\n",
              "  inputElement.disabled = false;\n",
              "\n",
              "  const outputElement = document.getElementById(outputId);\n",
              "  outputElement.innerHTML = '';\n",
              "\n",
              "  const pickedPromise = new Promise((resolve) => {\n",
              "    inputElement.addEventListener('change', (e) => {\n",
              "      resolve(e.target.files);\n",
              "    });\n",
              "  });\n",
              "\n",
              "  const cancel = document.createElement('button');\n",
              "  inputElement.parentElement.appendChild(cancel);\n",
              "  cancel.textContent = 'Cancel upload';\n",
              "  const cancelPromise = new Promise((resolve) => {\n",
              "    cancel.onclick = () => {\n",
              "      resolve(null);\n",
              "    };\n",
              "  });\n",
              "\n",
              "  // Wait for the user to pick the files.\n",
              "  const files = yield {\n",
              "    promise: Promise.race([pickedPromise, cancelPromise]),\n",
              "    response: {\n",
              "      action: 'starting',\n",
              "    }\n",
              "  };\n",
              "\n",
              "  cancel.remove();\n",
              "\n",
              "  // Disable the input element since further picks are not allowed.\n",
              "  inputElement.disabled = true;\n",
              "\n",
              "  if (!files) {\n",
              "    return {\n",
              "      response: {\n",
              "        action: 'complete',\n",
              "      }\n",
              "    };\n",
              "  }\n",
              "\n",
              "  for (const file of files) {\n",
              "    const li = document.createElement('li');\n",
              "    li.append(span(file.name, {fontWeight: 'bold'}));\n",
              "    li.append(span(\n",
              "        `(${file.type || 'n/a'}) - ${file.size} bytes, ` +\n",
              "        `last modified: ${\n",
              "            file.lastModifiedDate ? file.lastModifiedDate.toLocaleDateString() :\n",
              "                                    'n/a'} - `));\n",
              "    const percent = span('0% done');\n",
              "    li.appendChild(percent);\n",
              "\n",
              "    outputElement.appendChild(li);\n",
              "\n",
              "    const fileDataPromise = new Promise((resolve) => {\n",
              "      const reader = new FileReader();\n",
              "      reader.onload = (e) => {\n",
              "        resolve(e.target.result);\n",
              "      };\n",
              "      reader.readAsArrayBuffer(file);\n",
              "    });\n",
              "    // Wait for the data to be ready.\n",
              "    let fileData = yield {\n",
              "      promise: fileDataPromise,\n",
              "      response: {\n",
              "        action: 'continue',\n",
              "      }\n",
              "    };\n",
              "\n",
              "    // Use a chunked sending to avoid message size limits. See b/62115660.\n",
              "    let position = 0;\n",
              "    do {\n",
              "      const length = Math.min(fileData.byteLength - position, MAX_PAYLOAD_SIZE);\n",
              "      const chunk = new Uint8Array(fileData, position, length);\n",
              "      position += length;\n",
              "\n",
              "      const base64 = btoa(String.fromCharCode.apply(null, chunk));\n",
              "      yield {\n",
              "        response: {\n",
              "          action: 'append',\n",
              "          file: file.name,\n",
              "          data: base64,\n",
              "        },\n",
              "      };\n",
              "\n",
              "      let percentDone = fileData.byteLength === 0 ?\n",
              "          100 :\n",
              "          Math.round((position / fileData.byteLength) * 100);\n",
              "      percent.textContent = `${percentDone}% done`;\n",
              "\n",
              "    } while (position < fileData.byteLength);\n",
              "  }\n",
              "\n",
              "  // All done.\n",
              "  yield {\n",
              "    response: {\n",
              "      action: 'complete',\n",
              "    }\n",
              "  };\n",
              "}\n",
              "\n",
              "scope.google = scope.google || {};\n",
              "scope.google.colab = scope.google.colab || {};\n",
              "scope.google.colab._files = {\n",
              "  _uploadFiles,\n",
              "  _uploadFilesContinue,\n",
              "};\n",
              "})(self);\n",
              "</script> "
            ]
          },
          "metadata": {}
        },
        {
          "output_type": "stream",
          "name": "stdout",
          "text": [
            "Saving jugadores.json.txt to jugadores.json (3).txt\n",
            "Lionel Messi\n"
          ]
        }
      ]
    },
    {
      "cell_type": "code",
      "source": [
        "#Ejercicio 3\n",
        "#Leer un Excel y listar las columnas que contiene.\n",
        "\n",
        "from google.colab import files\n",
        "import pandas as pd\n",
        "\n",
        "\n",
        "drive.mount('/content/drive')\n",
        "\n",
        "\n",
        "# Cambiá la ruta por donde esté tu CSV\n",
        "ruta ='/content/drive/MyDrive/Colab Notebooks/carpeta/listaclientes.xlsx'\n",
        "\n",
        "df = pd.read_excel(ruta)\n",
        "\n",
        "\n",
        "print(\"Columnas en el Excel:\")\n",
        "print(df.columns.tolist())"
      ],
      "metadata": {
        "colab": {
          "base_uri": "https://localhost:8080/"
        },
        "id": "L6727WCVRQki",
        "outputId": "a3f49fdb-93d9-4f64-cb19-8e7573baa770"
      },
      "execution_count": null,
      "outputs": [
        {
          "output_type": "stream",
          "name": "stdout",
          "text": [
            "Drive already mounted at /content/drive; to attempt to forcibly remount, call drive.mount(\"/content/drive\", force_remount=True).\n",
            "Columnas en el Excel:\n",
            "['ID', 'Nombre completo', 'Fecha de nacimiento', 'Dirección', 'Localidad y Código postal', 'Teléfono', 'Correo electrónico', 'Fecha de alta', 'Grupo de clientes']\n"
          ]
        }
      ]
    },
    {
      "cell_type": "code",
      "source": [
        "#Ejercicio 4\n",
        "import pandas as pd\n",
        "df=pd.read_csv(\"datos.csv\")\n",
        "\n",
        "filtro=df[df[\"edad\"]>30]\n",
        "print(filtro)"
      ],
      "metadata": {
        "colab": {
          "base_uri": "https://localhost:8080/"
        },
        "id": "GC_nVETDav6q",
        "outputId": "cb474302-270a-4207-812b-b31619f9b066"
      },
      "execution_count": null,
      "outputs": [
        {
          "output_type": "stream",
          "name": "stdout",
          "text": [
            "               nombre  edad       pais\n",
            "0        Lionel Messi    37  Argentina\n",
            "1   Cristiano Ronaldo    40   Portugal\n",
            "6         Luka Modric    39    Croacia\n",
            "7     Kevin De Bruyne    34    Bélgica\n",
            "10  Emiliano Martinez    33  Argentina\n"
          ]
        }
      ]
    }
  ]
}